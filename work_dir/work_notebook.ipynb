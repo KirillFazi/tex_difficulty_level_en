{
 "cells": [
  {
   "cell_type": "code",
   "execution_count": 126,
   "metadata": {
    "collapsed": true,
    "ExecuteTime": {
     "end_time": "2023-08-26T10:25:53.945721900Z",
     "start_time": "2023-08-26T10:25:53.910578900Z"
    }
   },
   "outputs": [],
   "source": []
  },
  {
   "cell_type": "markdown",
   "source": [
    "Проект:\n",
    "\n",
    "Запрос сформирован в связи с тем, что просмотр фильмов на языке оригинала является популярным и эффективным методом прокачки при изучении иностранных языков. При этом важно выбрать фильм, соответствующий уровню сложности студента, т.е. чтобы студент понимал 50-70% диалогов. Чтобы выполнить это условие, преподаватель должен посмотреть фильм и определить, какому уровню он соответствует. Однако это требует больших временных затрат.\n",
    "\n",
    "Наша задача:\n",
    "\n",
    "Разработать ML-решение для автоматического определения уровня сложности англоязычных фильмов.\n",
    "\n",
    "В решении поставленной задачи могут помочь следующие шаги:\n",
    "1. Загрузить данные\n",
    "2. Провести EDA\n",
    "3. Попытаться собрать больше данных\n",
    "4. изучить способы решения аналогичных задач: работа с текстовыми данными лемматизация, стемминг, стоп-слова и т.д., библиотеки NLP.\n",
    "5. Построить базовую модель, оценить качество\n",
    "6. Доработать решение (повторить шаги 3-6)"
   ],
   "metadata": {
    "collapsed": false
   }
  },
  {
   "cell_type": "markdown",
   "source": [
    "1. Понимание проблемы:\n",
    "Тщательно изучите проблему, включая требования, ограничения и цели. Разбейте задачу на более мелкие подзадачи и убедитесь, что у вас есть четкое понимание того, что ожидается от решения.\n",
    "\n",
    "2. Сбор и предварительная обработка данных:\n",
    "Соберите набор данных транскриптов англоязычных фильмов с соответствующими уровнями сложности. Можно использовать такие источники, как субтитры, сценарии фильмов или онлайновые базы данных. Предварительно обработайте данные, очистив текст, удалив специальные символы и преобразовав их в строчные.\n",
    "\n",
    "3. Эксплораторный анализ данных (EDA):\n",
    "Проанализируйте набор данных, чтобы получить представление о распределении уровней сложности, длине текстов и любых закономерностях, которые могут возникнуть. Этот этап поможет лучше понять данные и направить процесс разработки функций.\n",
    "\n",
    "4. Расширение данных:\n",
    "Если набор данных ограничен, рассмотрите возможность его дополнения путем создания синтетических данных или использования таких методов, как обратный перевод, для создания дополнительных примеров. Это поможет повысить эффективность модели.\n",
    "\n",
    "5. Предварительная обработка текста:\n",
    "Применяются такие методы НЛП, как токенизация, лемматизация и удаление стоп-слов. Эти действия позволяют подготовить текстовые данные для ввода в модель.\n",
    "\n",
    "6. Извлечение признаков с помощью трансформаторов:\n",
    "Использование предварительно обученных моделей трансформаторов из библиотек, таких как Hugging Face Transformers. Эти модели, такие как BERT, GPT-2 или RoBERTa, были обучены на огромных объемах текста и могут извлекать из текстовых данных богатые контекстуальные вкрапления. Настройте эти модели на конкретную задачу, чтобы повысить их производительность.\n",
    "\n",
    "7. Архитектура модели:\n",
    "Разработайте архитектуру модели. Вы можете использовать PyTorch для создания собственных архитектур нейронных сетей или модифицировать существующие архитектуры для решения конкретной задачи. Входными данными для модели будут контекстные вкрапления, сгенерированные моделью трансформатора.\n",
    "\n",
    "8. Базовая модель:\n",
    "Постройте базовую модель, используя разработанную архитектуру. Обучите модель на своем наборе данных и оцените ее производительность с помощью соответствующих метрик для задачи классификации. Это послужит отправной точкой для итеративных улучшений.\n",
    "\n",
    "9. Оценка и доработка модели:\n",
    "Проанализируйте производительность базовой модели и определите области, требующие улучшения. Экспериментируйте с различными гиперпараметрами, архитектурой модели и методиками для повышения точности модели. Для оценки устойчивости модели можно использовать такие методы, как перекрестная валидация.\n",
    "\n",
    "10. Итерация и оптимизация:\n",
    "Итеративно дорабатывайте модель, возвращаясь к шагам 3-6. Собирайте больше данных, экспериментируйте с различными методиками и настраивайте модель для достижения лучших результатов.\n",
    "\n",
    "11. Документирование и презентация:\n",
    "Документируйте каждый этап работы, включая предварительную обработку данных, архитектуру модели, гиперпараметры и результаты. Создайте четкую и лаконичную презентацию с кратким описанием вашего подхода, возникших проблем и итоговой эффективности модели.\n",
    "\n",
    "12. Будущие усовершенствования:\n",
    "Рассмотрите дополнительные возможности и методы, которые могут еще больше повысить точность модели. Можно рассмотреть ансамблевые методы, более совершенные архитектуры трансформаторов или использование внешних ресурсов."
   ],
   "metadata": {
    "collapsed": false
   }
  },
  {
   "cell_type": "code",
   "execution_count": 3,
   "outputs": [],
   "source": [
    "import os\n",
    "import shutil\n",
    "import re\n",
    "\n",
    "import pandas as pd\n",
    "import numpy as np\n",
    "import spacy\n",
    "import pysrt\n",
    "from tqdm import tqdm\n",
    "\n",
    "import torch\n",
    "\n",
    "import transformers\n",
    "from transformers import BertTokenizer, BertForSequenceClassification, AdamW\n",
    "\n",
    "from sklearn.datasets import load_files\n",
    "from sklearn.model_selection import train_test_split\n",
    "from sklearn.metrics import accuracy_score\n",
    "\n",
    "import nltk\n",
    "from nltk.corpus import stopwords\n",
    "\n",
    "import warnings\n",
    "warnings.filterwarnings('ignore')"
   ],
   "metadata": {
    "collapsed": false,
    "ExecuteTime": {
     "end_time": "2023-08-31T08:58:25.771857600Z",
     "start_time": "2023-08-31T08:58:15.266145300Z"
    }
   }
  },
  {
   "cell_type": "code",
   "execution_count": 6,
   "outputs": [],
   "source": [
    "movies_labels = pd.read_csv('data/English_scores/movies_labels_big_subs.csv')"
   ],
   "metadata": {
    "collapsed": false,
    "ExecuteTime": {
     "end_time": "2023-08-31T09:44:56.346153100Z",
     "start_time": "2023-08-31T09:44:56.194721900Z"
    }
   }
  },
  {
   "cell_type": "code",
   "execution_count": 7,
   "outputs": [
    {
     "data": {
      "text/plain": "                                                 movie  level  \\\n0                            10_Cloverfield_lane(2016)      3   \n1                     10_things_I_hate_about_you(1999)      1   \n2                                 A_knights_tale(2001)      1   \n3                                 A_star_is_born(2018)      1   \n4                                        Aladdin(1992)      0   \n..                                                 ...    ...   \n361       There.Will.Be.Blood[2007]DvDrip[Eng]-aXXo.en      3   \n362                                    timpe-inception      3   \n363     Trainspotting.1996.720p.BluRay.x264-SiNNERS.EN      3   \n364           Twelve.Monkeys.(1995).DVDRip.XviD-UnSeeN      3   \n365  [2000] Darren Aronofsky - Requiem for a Dream ...      3   \n\n                                                  subs  \n0    ben on phone michelle, please don t hang up. j...  \n1    i ll be right with you. so, cameron. here you ...  \n2    should we help him? he s due in the lists in t...  \n3    get to it. black eyes open wide it s time to t...  \n4    where the caravan camels roam where it s flat ...  \n..                                                 ...  \n361  there she is. there she is. there she is. ladi...  \n362  i know what this is. i ve seen one before. man...  \n363  choose a career. choose a family. choose a fuc...  \n364  inmate number cole, james. jose, what s going ...  \n365  ohhh, tappy s got juice! tappy s got juice! wh...  \n\n[366 rows x 3 columns]",
      "text/html": "<div>\n<style scoped>\n    .dataframe tbody tr th:only-of-type {\n        vertical-align: middle;\n    }\n\n    .dataframe tbody tr th {\n        vertical-align: top;\n    }\n\n    .dataframe thead th {\n        text-align: right;\n    }\n</style>\n<table border=\"1\" class=\"dataframe\">\n  <thead>\n    <tr style=\"text-align: right;\">\n      <th></th>\n      <th>movie</th>\n      <th>level</th>\n      <th>subs</th>\n    </tr>\n  </thead>\n  <tbody>\n    <tr>\n      <th>0</th>\n      <td>10_Cloverfield_lane(2016)</td>\n      <td>3</td>\n      <td>ben on phone michelle, please don t hang up. j...</td>\n    </tr>\n    <tr>\n      <th>1</th>\n      <td>10_things_I_hate_about_you(1999)</td>\n      <td>1</td>\n      <td>i ll be right with you. so, cameron. here you ...</td>\n    </tr>\n    <tr>\n      <th>2</th>\n      <td>A_knights_tale(2001)</td>\n      <td>1</td>\n      <td>should we help him? he s due in the lists in t...</td>\n    </tr>\n    <tr>\n      <th>3</th>\n      <td>A_star_is_born(2018)</td>\n      <td>1</td>\n      <td>get to it. black eyes open wide it s time to t...</td>\n    </tr>\n    <tr>\n      <th>4</th>\n      <td>Aladdin(1992)</td>\n      <td>0</td>\n      <td>where the caravan camels roam where it s flat ...</td>\n    </tr>\n    <tr>\n      <th>...</th>\n      <td>...</td>\n      <td>...</td>\n      <td>...</td>\n    </tr>\n    <tr>\n      <th>361</th>\n      <td>There.Will.Be.Blood[2007]DvDrip[Eng]-aXXo.en</td>\n      <td>3</td>\n      <td>there she is. there she is. there she is. ladi...</td>\n    </tr>\n    <tr>\n      <th>362</th>\n      <td>timpe-inception</td>\n      <td>3</td>\n      <td>i know what this is. i ve seen one before. man...</td>\n    </tr>\n    <tr>\n      <th>363</th>\n      <td>Trainspotting.1996.720p.BluRay.x264-SiNNERS.EN</td>\n      <td>3</td>\n      <td>choose a career. choose a family. choose a fuc...</td>\n    </tr>\n    <tr>\n      <th>364</th>\n      <td>Twelve.Monkeys.(1995).DVDRip.XviD-UnSeeN</td>\n      <td>3</td>\n      <td>inmate number cole, james. jose, what s going ...</td>\n    </tr>\n    <tr>\n      <th>365</th>\n      <td>[2000] Darren Aronofsky - Requiem for a Dream ...</td>\n      <td>3</td>\n      <td>ohhh, tappy s got juice! tappy s got juice! wh...</td>\n    </tr>\n  </tbody>\n</table>\n<p>366 rows × 3 columns</p>\n</div>"
     },
     "execution_count": 7,
     "metadata": {},
     "output_type": "execute_result"
    }
   ],
   "source": [
    "movies_labels"
   ],
   "metadata": {
    "collapsed": false,
    "ExecuteTime": {
     "end_time": "2023-08-31T09:44:56.936831400Z",
     "start_time": "2023-08-31T09:44:56.890530100Z"
    }
   }
  },
  {
   "cell_type": "code",
   "execution_count": null,
   "outputs": [],
   "source": [],
   "metadata": {
    "collapsed": false
   }
  },
  {
   "cell_type": "code",
   "execution_count": null,
   "outputs": [],
   "source": [],
   "metadata": {
    "collapsed": false
   }
  },
  {
   "cell_type": "code",
   "execution_count": null,
   "outputs": [],
   "source": [],
   "metadata": {
    "collapsed": false
   }
  },
  {
   "cell_type": "code",
   "execution_count": 1,
   "outputs": [
    {
     "ename": "NameError",
     "evalue": "name 'movies_labels' is not defined",
     "output_type": "error",
     "traceback": [
      "\u001B[1;31m---------------------------------------------------------------------------\u001B[0m",
      "\u001B[1;31mNameError\u001B[0m                                 Traceback (most recent call last)",
      "Cell \u001B[1;32mIn[1], line 1\u001B[0m\n\u001B[1;32m----> 1\u001B[0m \u001B[43mmovies_labels\u001B[49m\u001B[38;5;241m.\u001B[39mduplicated()\u001B[38;5;241m.\u001B[39msum()\n",
      "\u001B[1;31mNameError\u001B[0m: name 'movies_labels' is not defined"
     ]
    }
   ],
   "source": [
    "movies_labels.duplicated().sum()"
   ],
   "metadata": {
    "collapsed": false,
    "ExecuteTime": {
     "end_time": "2023-08-31T08:55:22.269087100Z",
     "start_time": "2023-08-31T08:55:21.709531600Z"
    }
   }
  },
  {
   "cell_type": "code",
   "execution_count": 46,
   "outputs": [],
   "source": [
    "movies_labels.drop_duplicates(inplace=True)"
   ],
   "metadata": {
    "collapsed": false,
    "ExecuteTime": {
     "end_time": "2023-08-30T09:53:32.967206Z",
     "start_time": "2023-08-30T09:53:32.951164400Z"
    }
   }
  },
  {
   "cell_type": "code",
   "execution_count": 47,
   "outputs": [],
   "source": [
    "level_dict = {\n",
    "    'A2': 0,\n",
    "    'B1': 1,\n",
    "    'B2': 2,\n",
    "    'C1': 3,\n",
    "}\n",
    "\n",
    "movies_labels['level'] = movies_labels['level'].map(level_dict)"
   ],
   "metadata": {
    "collapsed": false,
    "ExecuteTime": {
     "end_time": "2023-08-30T09:53:34.035953900Z",
     "start_time": "2023-08-30T09:53:34.004564100Z"
    }
   }
  },
  {
   "cell_type": "code",
   "execution_count": 48,
   "outputs": [
    {
     "data": {
      "text/plain": "level\n2    136\n1     81\n0     81\n3     69\nName: count, dtype: int64"
     },
     "execution_count": 48,
     "metadata": {},
     "output_type": "execute_result"
    }
   ],
   "source": [
    "movies_labels['level'].value_counts()"
   ],
   "metadata": {
    "collapsed": false,
    "ExecuteTime": {
     "end_time": "2023-08-30T09:53:35.235867600Z",
     "start_time": "2023-08-30T09:53:35.188692800Z"
    }
   }
  },
  {
   "cell_type": "code",
   "execution_count": 49,
   "outputs": [
    {
     "data": {
      "text/plain": "(367, 2)"
     },
     "execution_count": 49,
     "metadata": {},
     "output_type": "execute_result"
    }
   ],
   "source": [
    "movies_labels.shape"
   ],
   "metadata": {
    "collapsed": false,
    "ExecuteTime": {
     "end_time": "2023-08-30T09:53:36.896404400Z",
     "start_time": "2023-08-30T09:53:36.889960300Z"
    }
   }
  },
  {
   "cell_type": "markdown",
   "source": [
    "## Предобработка выборки"
   ],
   "metadata": {
    "collapsed": false
   }
  },
  {
   "cell_type": "code",
   "execution_count": 50,
   "outputs": [
    {
     "name": "stdout",
     "output_type": "stream",
     "text": [
      "Количество файлов: 364\n"
     ]
    }
   ],
   "source": [
    "sub_names = os.listdir('data/English_scores/Subtitles_all/Subtitles')\n",
    "\n",
    "print(f'Количество файлов: {len(sub_names)}')"
   ],
   "metadata": {
    "collapsed": false,
    "ExecuteTime": {
     "end_time": "2023-08-30T09:53:41.049926700Z",
     "start_time": "2023-08-30T09:53:41.034279500Z"
    }
   }
  },
  {
   "cell_type": "code",
   "execution_count": 51,
   "outputs": [
    {
     "name": "stdout",
     "output_type": "stream",
     "text": [
      "Количество фильмов, имеющих метку и субтитры: 363\n"
     ]
    }
   ],
   "source": [
    "sub_filtr = set(sub_names) & set(movies_labels['movie'] + '.srt')\n",
    "print(f'Количество фильмов, имеющих метку и субтитры: {len(sub_filtr)}')"
   ],
   "metadata": {
    "collapsed": false,
    "ExecuteTime": {
     "end_time": "2023-08-30T09:53:59.981105300Z",
     "start_time": "2023-08-30T09:53:59.974897400Z"
    }
   }
  },
  {
   "cell_type": "code",
   "execution_count": 52,
   "outputs": [
    {
     "data": {
      "text/plain": "'a, an \\nabout \\nabove \\nacross \\naction\\nactivity\\nactor'"
     },
     "execution_count": 52,
     "metadata": {},
     "output_type": "execute_result"
    }
   ],
   "source": [
    "oxford = load_files('data/Oxford_CEFR_level/Classic Oxford', shuffle=False, encoding='utf-8-sig')\n",
    "oxford.data[0][:50]"
   ],
   "metadata": {
    "collapsed": false,
    "ExecuteTime": {
     "end_time": "2023-08-30T09:54:11.283340100Z",
     "start_time": "2023-08-30T09:54:11.251737700Z"
    }
   }
  },
  {
   "cell_type": "code",
   "execution_count": 31,
   "outputs": [],
   "source": [],
   "metadata": {
    "collapsed": false,
    "ExecuteTime": {
     "end_time": "2023-08-30T09:07:55.545646200Z",
     "start_time": "2023-08-30T09:07:55.517478400Z"
    }
   }
  },
  {
   "cell_type": "code",
   "execution_count": 31,
   "outputs": [],
   "source": [],
   "metadata": {
    "collapsed": false,
    "ExecuteTime": {
     "end_time": "2023-08-30T09:07:55.739404100Z",
     "start_time": "2023-08-30T09:07:55.721261500Z"
    }
   }
  },
  {
   "cell_type": "code",
   "execution_count": 31,
   "outputs": [],
   "source": [],
   "metadata": {
    "collapsed": false,
    "ExecuteTime": {
     "end_time": "2023-08-30T09:07:55.869036300Z",
     "start_time": "2023-08-30T09:07:55.856524500Z"
    }
   }
  },
  {
   "cell_type": "code",
   "execution_count": 53,
   "outputs": [],
   "source": [
    "HTML = r'<.*?>' # html тэги на пробел\n",
    "TAG = r'{.*?}' # тэги на пробел\n",
    "COMMENTS = r'[\\(\\[][A-Za-z ]+[\\)\\]]' # комменты в скобках на пробел\n",
    "LETTERS = r'[^a-zA-Z\\.,!? ]' # все что не буквы на пробел\n",
    "SPACES = r'([ ])\\1+' # повторяющиеся пробелы на один пробел\n",
    "DOTS = r'[\\.]+' # многоточие на точку"
   ],
   "metadata": {
    "collapsed": false,
    "ExecuteTime": {
     "end_time": "2023-08-30T09:54:14.620204500Z",
     "start_time": "2023-08-30T09:54:14.604273200Z"
    }
   }
  },
  {
   "cell_type": "code",
   "execution_count": 54,
   "outputs": [],
   "source": [
    "def clean_subs(subs):\n",
    "    subs = subs[1:]\n",
    "    txt = re.sub(HTML, ' ', subs.text)\n",
    "    txt = re.sub(COMMENTS, ' ', txt)\n",
    "    txt = re.sub(LETTERS, ' ', txt)\n",
    "    txt = re.sub(DOTS, r'.', txt)\n",
    "    txt = re.sub(SPACES, r'\\1', txt)\n",
    "    txt = re.sub('www', '', txt)\n",
    "    txt = txt.lstrip()\n",
    "    txt = txt.encode('ascii', 'ignore').decode()\n",
    "    txt = txt.lower()\n",
    "\n",
    "    return txt"
   ],
   "metadata": {
    "collapsed": false,
    "ExecuteTime": {
     "end_time": "2023-08-30T09:54:14.956439400Z",
     "start_time": "2023-08-30T09:54:14.940778100Z"
    }
   }
  },
  {
   "cell_type": "code",
   "execution_count": 55,
   "outputs": [],
   "source": [
    "def lemma_count(lemmas, oxf, cat):\n",
    "    func_dict = {'A1': 0,\n",
    "                 'A2': 1,\n",
    "                 'B1': 2,\n",
    "                 'B2': 3,\n",
    "                 'C1': 4}\n",
    "    level = func_dict[cat]\n",
    "    oxf_word_list = oxf[level].split()\n",
    "    words = [lemma for lemma in lemmas if lemma in oxf_word_list]\n",
    "\n",
    "    return len(set(words))"
   ],
   "metadata": {
    "collapsed": false,
    "ExecuteTime": {
     "end_time": "2023-08-30T09:54:15.250307Z",
     "start_time": "2023-08-30T09:54:15.234422800Z"
    }
   }
  },
  {
   "cell_type": "code",
   "execution_count": 56,
   "outputs": [
    {
     "name": "stderr",
     "output_type": "stream",
     "text": [
      "100%|██████████| 363/363 [11:55<00:00,  1.97s/it]\n"
     ]
    }
   ],
   "source": [
    "dataset_path = 'data/English_scores/Subtitles_all/Subtitles'\n",
    "\n",
    "for film in tqdm(sub_filtr):\n",
    "    try:\n",
    "        subs = pysrt.open(f'{dataset_path}/{film}')\n",
    "    except:\n",
    "        subs = pysrt.open(f'{dataset_path}/{film}', encoding='iso-8859-1')\n",
    "\n",
    "    cln_subs = clean_subs(subs)\n",
    "    movies_labels.loc[movies_labels['movie'] == film[:-4], 'subs'] = cln_subs\n",
    "\n",
    "    nlp = spacy.load('en_core_web_sm')\n",
    "    doc = nlp(cln_subs)\n",
    "    lemma_list = [token.lemma_ for token in doc]\n",
    "\n",
    "    # for lvl in ['A2', 'B1', 'B2', 'C1']:\n",
    "    #     movies_labels.loc[movies_labels['movie'] == film[:-4], lvl+'_lemma_cnt'] = lemma_count(lemma_list, oxford.data, lvl)"
   ],
   "metadata": {
    "collapsed": false,
    "ExecuteTime": {
     "end_time": "2023-08-30T10:06:27.962147100Z",
     "start_time": "2023-08-30T09:54:31.944895800Z"
    }
   }
  },
  {
   "cell_type": "code",
   "execution_count": 59,
   "outputs": [
    {
     "name": "stdout",
     "output_type": "stream",
     "text": [
      "<class 'pandas.core.frame.DataFrame'>\n",
      "Index: 366 entries, 0 to 366\n",
      "Data columns (total 3 columns):\n",
      " #   Column  Non-Null Count  Dtype \n",
      "---  ------  --------------  ----- \n",
      " 0   movie   366 non-null    object\n",
      " 1   level   366 non-null    int64 \n",
      " 2   subs    366 non-null    object\n",
      "dtypes: int64(1), object(2)\n",
      "memory usage: 11.4+ KB\n"
     ]
    }
   ],
   "source": [
    "movies_labels.info()"
   ],
   "metadata": {
    "collapsed": false,
    "ExecuteTime": {
     "end_time": "2023-08-30T10:20:50.274134500Z",
     "start_time": "2023-08-30T10:20:50.226788900Z"
    }
   }
  },
  {
   "cell_type": "code",
   "execution_count": 58,
   "outputs": [],
   "source": [
    "movies_labels.dropna(inplace=True)"
   ],
   "metadata": {
    "collapsed": false,
    "ExecuteTime": {
     "end_time": "2023-08-30T10:20:48.748183100Z",
     "start_time": "2023-08-30T10:20:48.716486200Z"
    }
   }
  },
  {
   "cell_type": "code",
   "execution_count": 60,
   "outputs": [
    {
     "data": {
      "text/plain": "                                                 movie  level  \\\n0                            10_Cloverfield_lane(2016)      1   \n1                     10_things_I_hate_about_you(1999)      1   \n2                                 A_knights_tale(2001)      2   \n3                                 A_star_is_born(2018)      2   \n4                                        Aladdin(1992)      0   \n..                                                 ...    ...   \n362       There.Will.Be.Blood[2007]DvDrip[Eng]-aXXo.en      3   \n363                                    timpe-inception      3   \n364     Trainspotting.1996.720p.BluRay.x264-SiNNERS.EN      3   \n365           Twelve.Monkeys.(1995).DVDRip.XviD-UnSeeN      3   \n366  [2000] Darren Aronofsky - Requiem for a Dream ...      3   \n\n                                                  subs  \n0    ben on phone michelle, please don t hang up. j...  \n1    i ll be right with you. so, cameron. here you ...  \n2    should we help him? he s due in the lists in t...  \n3    get to it. black eyes open wide it s time to t...  \n4    where the caravan camels roam where it s flat ...  \n..                                                 ...  \n362  there she is. there she is. there she is. ladi...  \n363  i know what this is. i ve seen one before. man...  \n364  choose a career. choose a family. choose a fuc...  \n365  inmate number cole, james. jose, what s going ...  \n366  ohhh, tappy s got juice! tappy s got juice! wh...  \n\n[366 rows x 3 columns]",
      "text/html": "<div>\n<style scoped>\n    .dataframe tbody tr th:only-of-type {\n        vertical-align: middle;\n    }\n\n    .dataframe tbody tr th {\n        vertical-align: top;\n    }\n\n    .dataframe thead th {\n        text-align: right;\n    }\n</style>\n<table border=\"1\" class=\"dataframe\">\n  <thead>\n    <tr style=\"text-align: right;\">\n      <th></th>\n      <th>movie</th>\n      <th>level</th>\n      <th>subs</th>\n    </tr>\n  </thead>\n  <tbody>\n    <tr>\n      <th>0</th>\n      <td>10_Cloverfield_lane(2016)</td>\n      <td>1</td>\n      <td>ben on phone michelle, please don t hang up. j...</td>\n    </tr>\n    <tr>\n      <th>1</th>\n      <td>10_things_I_hate_about_you(1999)</td>\n      <td>1</td>\n      <td>i ll be right with you. so, cameron. here you ...</td>\n    </tr>\n    <tr>\n      <th>2</th>\n      <td>A_knights_tale(2001)</td>\n      <td>2</td>\n      <td>should we help him? he s due in the lists in t...</td>\n    </tr>\n    <tr>\n      <th>3</th>\n      <td>A_star_is_born(2018)</td>\n      <td>2</td>\n      <td>get to it. black eyes open wide it s time to t...</td>\n    </tr>\n    <tr>\n      <th>4</th>\n      <td>Aladdin(1992)</td>\n      <td>0</td>\n      <td>where the caravan camels roam where it s flat ...</td>\n    </tr>\n    <tr>\n      <th>...</th>\n      <td>...</td>\n      <td>...</td>\n      <td>...</td>\n    </tr>\n    <tr>\n      <th>362</th>\n      <td>There.Will.Be.Blood[2007]DvDrip[Eng]-aXXo.en</td>\n      <td>3</td>\n      <td>there she is. there she is. there she is. ladi...</td>\n    </tr>\n    <tr>\n      <th>363</th>\n      <td>timpe-inception</td>\n      <td>3</td>\n      <td>i know what this is. i ve seen one before. man...</td>\n    </tr>\n    <tr>\n      <th>364</th>\n      <td>Trainspotting.1996.720p.BluRay.x264-SiNNERS.EN</td>\n      <td>3</td>\n      <td>choose a career. choose a family. choose a fuc...</td>\n    </tr>\n    <tr>\n      <th>365</th>\n      <td>Twelve.Monkeys.(1995).DVDRip.XviD-UnSeeN</td>\n      <td>3</td>\n      <td>inmate number cole, james. jose, what s going ...</td>\n    </tr>\n    <tr>\n      <th>366</th>\n      <td>[2000] Darren Aronofsky - Requiem for a Dream ...</td>\n      <td>3</td>\n      <td>ohhh, tappy s got juice! tappy s got juice! wh...</td>\n    </tr>\n  </tbody>\n</table>\n<p>366 rows × 3 columns</p>\n</div>"
     },
     "execution_count": 60,
     "metadata": {},
     "output_type": "execute_result"
    }
   ],
   "source": [
    "movies_labels"
   ],
   "metadata": {
    "collapsed": false,
    "ExecuteTime": {
     "end_time": "2023-08-30T10:21:21.975975900Z",
     "start_time": "2023-08-30T10:21:21.960153600Z"
    }
   }
  },
  {
   "cell_type": "code",
   "execution_count": 61,
   "outputs": [],
   "source": [
    "movies_labels.to_csv('data/English_scores/movies_labels_big_subs.csv', index=False)"
   ],
   "metadata": {
    "collapsed": false,
    "ExecuteTime": {
     "end_time": "2023-08-30T10:21:36.329744500Z",
     "start_time": "2023-08-30T10:21:36.072279900Z"
    }
   }
  },
  {
   "cell_type": "code",
   "execution_count": null,
   "outputs": [],
   "source": [],
   "metadata": {
    "collapsed": false
   }
  },
  {
   "cell_type": "code",
   "execution_count": null,
   "outputs": [],
   "source": [],
   "metadata": {
    "collapsed": false
   }
  },
  {
   "cell_type": "code",
   "execution_count": null,
   "outputs": [],
   "source": [],
   "metadata": {
    "collapsed": false
   }
  },
  {
   "cell_type": "code",
   "execution_count": 4,
   "outputs": [],
   "source": [
    "def remove_stopwords(text):\n",
    "    stop_words = set(stopwords.words('english'))\n",
    "    word_tokens = text.split()\n",
    "    filtered_text = [word for word in word_tokens if word not in stop_words]\n",
    "\n",
    "    return ' '.join(filtered_text)"
   ],
   "metadata": {
    "collapsed": false,
    "ExecuteTime": {
     "end_time": "2023-08-28T13:34:12.557060400Z",
     "start_time": "2023-08-28T13:34:12.545953500Z"
    }
   }
  },
  {
   "cell_type": "code",
   "execution_count": 5,
   "outputs": [],
   "source": [
    "def lemmatize(text):\n",
    "    nlp = spacy.load('en_core_web_sm')\n",
    "    doc = nlp(text)\n",
    "    lemma_list = [token.lemma_ for token in doc]\n",
    "\n",
    "    return ' '.join(lemma_list)"
   ],
   "metadata": {
    "collapsed": false,
    "ExecuteTime": {
     "end_time": "2023-08-28T13:34:12.790559300Z",
     "start_time": "2023-08-28T13:34:12.781050Z"
    }
   }
  },
  {
   "cell_type": "code",
   "execution_count": 6,
   "outputs": [],
   "source": [
    "movies_labels['subs'] = movies_labels['subs'].apply(remove_stopwords)"
   ],
   "metadata": {
    "collapsed": false,
    "ExecuteTime": {
     "end_time": "2023-08-28T13:34:13.731330700Z",
     "start_time": "2023-08-28T13:34:13.345571700Z"
    }
   }
  },
  {
   "cell_type": "code",
   "execution_count": 7,
   "outputs": [],
   "source": [
    "movies_labels['subs'] = movies_labels['subs'].apply(lemmatize)"
   ],
   "metadata": {
    "collapsed": false,
    "ExecuteTime": {
     "end_time": "2023-08-28T13:39:51.110518600Z",
     "start_time": "2023-08-28T13:34:16.217593500Z"
    }
   }
  },
  {
   "cell_type": "code",
   "execution_count": 8,
   "outputs": [],
   "source": [
    "movies_labels['subs_len'] = movies_labels['subs'].apply(lambda x: len(x.split()))"
   ],
   "metadata": {
    "collapsed": false,
    "ExecuteTime": {
     "end_time": "2023-08-28T13:39:51.175323400Z",
     "start_time": "2023-08-28T13:39:51.110518600Z"
    }
   }
  },
  {
   "cell_type": "code",
   "execution_count": 9,
   "outputs": [],
   "source": [
    "for lvl in ['A2', 'B1', 'B2', 'C1']:\n",
    "    movies_labels[f'{lvl}_lemma_frequency'] = movies_labels[f'{lvl}_lemma_cnt'] / movies_labels['subs_len']"
   ],
   "metadata": {
    "collapsed": false,
    "ExecuteTime": {
     "end_time": "2023-08-28T13:39:51.184902400Z",
     "start_time": "2023-08-28T13:39:51.175323400Z"
    }
   }
  },
  {
   "cell_type": "code",
   "execution_count": 10,
   "outputs": [
    {
     "data": {
      "text/plain": "                                movie  level  \\\n0           10_Cloverfield_lane(2016)      2   \n1    10_things_I_hate_about_you(1999)      2   \n2                A_knights_tale(2001)      3   \n3                A_star_is_born(2018)      3   \n4                       Aladdin(1992)      1   \n..                                ...    ...   \n226   Suits.S03E06.720p.HDTV.x264-mSD      4   \n227        Suits.S03E07.HDTV.x264-mSD      4   \n228   Suits.S03E08.480p.HDTV.x264-mSD      4   \n229   Suits.S03E09.480p.HDTV.x264-mSD      4   \n230        Suits.S03E10.HDTV.x264-mSD      4   \n\n                                                  subs  A2_lemma_cnt  \\\n0    ben phone michelle , please hang up . talk I ,...         187.0   \n1    right you . so , cameron . go . nine school ye...         241.0   \n2    help he ? due list two minute . two minute for...         246.0   \n3    get it . black eye open wide time testify room...         257.0   \n4    caravan camels roam flat immense heat intense ...         244.0   \n..                                                 ...           ...   \n226  assume deal edward dead . long win murder tria...         187.0   \n227  go wall tomorrow . way get side . want side . ...         205.0   \n228  darby back manage partner . want anymore . get...         188.0   \n229  bond father here . speak take easy I , you ? l...         208.0   \n230  copy letter write copy district attorney threa...         209.0   \n\n     B1_lemma_cnt  B2_lemma_cnt  C1_lemma_cnt  subs_len  A2_lemma_frequency  \\\n0           128.0         105.0          39.0      3845            0.048635   \n1           176.0         160.0          68.0      6583            0.036609   \n2           153.0         135.0          75.0      5977            0.041158   \n3           141.0         127.0          47.0      9883            0.026004   \n4           155.0         149.0          66.0      6769            0.036047   \n..            ...           ...           ...       ...                 ...   \n226         111.0          99.0          38.0      4493            0.041620   \n227         138.0         126.0          60.0      4324            0.047410   \n228         124.0         116.0          51.0      4274            0.043987   \n229         130.0         123.0          52.0      4566            0.045554   \n230         127.0         125.0          55.0      4683            0.044630   \n\n     B1_lemma_frequency  B2_lemma_frequency  C1_lemma_frequency  \n0              0.033290            0.027308            0.010143  \n1              0.026736            0.024305            0.010330  \n2              0.025598            0.022587            0.012548  \n3              0.014267            0.012850            0.004756  \n4              0.022899            0.022012            0.009750  \n..                  ...                 ...                 ...  \n226            0.024705            0.022034            0.008458  \n227            0.031915            0.029140            0.013876  \n228            0.029013            0.027141            0.011933  \n229            0.028471            0.026938            0.011389  \n230            0.027119            0.026692            0.011745  \n\n[231 rows x 12 columns]",
      "text/html": "<div>\n<style scoped>\n    .dataframe tbody tr th:only-of-type {\n        vertical-align: middle;\n    }\n\n    .dataframe tbody tr th {\n        vertical-align: top;\n    }\n\n    .dataframe thead th {\n        text-align: right;\n    }\n</style>\n<table border=\"1\" class=\"dataframe\">\n  <thead>\n    <tr style=\"text-align: right;\">\n      <th></th>\n      <th>movie</th>\n      <th>level</th>\n      <th>subs</th>\n      <th>A2_lemma_cnt</th>\n      <th>B1_lemma_cnt</th>\n      <th>B2_lemma_cnt</th>\n      <th>C1_lemma_cnt</th>\n      <th>subs_len</th>\n      <th>A2_lemma_frequency</th>\n      <th>B1_lemma_frequency</th>\n      <th>B2_lemma_frequency</th>\n      <th>C1_lemma_frequency</th>\n    </tr>\n  </thead>\n  <tbody>\n    <tr>\n      <th>0</th>\n      <td>10_Cloverfield_lane(2016)</td>\n      <td>2</td>\n      <td>ben phone michelle , please hang up . talk I ,...</td>\n      <td>187.0</td>\n      <td>128.0</td>\n      <td>105.0</td>\n      <td>39.0</td>\n      <td>3845</td>\n      <td>0.048635</td>\n      <td>0.033290</td>\n      <td>0.027308</td>\n      <td>0.010143</td>\n    </tr>\n    <tr>\n      <th>1</th>\n      <td>10_things_I_hate_about_you(1999)</td>\n      <td>2</td>\n      <td>right you . so , cameron . go . nine school ye...</td>\n      <td>241.0</td>\n      <td>176.0</td>\n      <td>160.0</td>\n      <td>68.0</td>\n      <td>6583</td>\n      <td>0.036609</td>\n      <td>0.026736</td>\n      <td>0.024305</td>\n      <td>0.010330</td>\n    </tr>\n    <tr>\n      <th>2</th>\n      <td>A_knights_tale(2001)</td>\n      <td>3</td>\n      <td>help he ? due list two minute . two minute for...</td>\n      <td>246.0</td>\n      <td>153.0</td>\n      <td>135.0</td>\n      <td>75.0</td>\n      <td>5977</td>\n      <td>0.041158</td>\n      <td>0.025598</td>\n      <td>0.022587</td>\n      <td>0.012548</td>\n    </tr>\n    <tr>\n      <th>3</th>\n      <td>A_star_is_born(2018)</td>\n      <td>3</td>\n      <td>get it . black eye open wide time testify room...</td>\n      <td>257.0</td>\n      <td>141.0</td>\n      <td>127.0</td>\n      <td>47.0</td>\n      <td>9883</td>\n      <td>0.026004</td>\n      <td>0.014267</td>\n      <td>0.012850</td>\n      <td>0.004756</td>\n    </tr>\n    <tr>\n      <th>4</th>\n      <td>Aladdin(1992)</td>\n      <td>1</td>\n      <td>caravan camels roam flat immense heat intense ...</td>\n      <td>244.0</td>\n      <td>155.0</td>\n      <td>149.0</td>\n      <td>66.0</td>\n      <td>6769</td>\n      <td>0.036047</td>\n      <td>0.022899</td>\n      <td>0.022012</td>\n      <td>0.009750</td>\n    </tr>\n    <tr>\n      <th>...</th>\n      <td>...</td>\n      <td>...</td>\n      <td>...</td>\n      <td>...</td>\n      <td>...</td>\n      <td>...</td>\n      <td>...</td>\n      <td>...</td>\n      <td>...</td>\n      <td>...</td>\n      <td>...</td>\n      <td>...</td>\n    </tr>\n    <tr>\n      <th>226</th>\n      <td>Suits.S03E06.720p.HDTV.x264-mSD</td>\n      <td>4</td>\n      <td>assume deal edward dead . long win murder tria...</td>\n      <td>187.0</td>\n      <td>111.0</td>\n      <td>99.0</td>\n      <td>38.0</td>\n      <td>4493</td>\n      <td>0.041620</td>\n      <td>0.024705</td>\n      <td>0.022034</td>\n      <td>0.008458</td>\n    </tr>\n    <tr>\n      <th>227</th>\n      <td>Suits.S03E07.HDTV.x264-mSD</td>\n      <td>4</td>\n      <td>go wall tomorrow . way get side . want side . ...</td>\n      <td>205.0</td>\n      <td>138.0</td>\n      <td>126.0</td>\n      <td>60.0</td>\n      <td>4324</td>\n      <td>0.047410</td>\n      <td>0.031915</td>\n      <td>0.029140</td>\n      <td>0.013876</td>\n    </tr>\n    <tr>\n      <th>228</th>\n      <td>Suits.S03E08.480p.HDTV.x264-mSD</td>\n      <td>4</td>\n      <td>darby back manage partner . want anymore . get...</td>\n      <td>188.0</td>\n      <td>124.0</td>\n      <td>116.0</td>\n      <td>51.0</td>\n      <td>4274</td>\n      <td>0.043987</td>\n      <td>0.029013</td>\n      <td>0.027141</td>\n      <td>0.011933</td>\n    </tr>\n    <tr>\n      <th>229</th>\n      <td>Suits.S03E09.480p.HDTV.x264-mSD</td>\n      <td>4</td>\n      <td>bond father here . speak take easy I , you ? l...</td>\n      <td>208.0</td>\n      <td>130.0</td>\n      <td>123.0</td>\n      <td>52.0</td>\n      <td>4566</td>\n      <td>0.045554</td>\n      <td>0.028471</td>\n      <td>0.026938</td>\n      <td>0.011389</td>\n    </tr>\n    <tr>\n      <th>230</th>\n      <td>Suits.S03E10.HDTV.x264-mSD</td>\n      <td>4</td>\n      <td>copy letter write copy district attorney threa...</td>\n      <td>209.0</td>\n      <td>127.0</td>\n      <td>125.0</td>\n      <td>55.0</td>\n      <td>4683</td>\n      <td>0.044630</td>\n      <td>0.027119</td>\n      <td>0.026692</td>\n      <td>0.011745</td>\n    </tr>\n  </tbody>\n</table>\n<p>231 rows × 12 columns</p>\n</div>"
     },
     "execution_count": 10,
     "metadata": {},
     "output_type": "execute_result"
    }
   ],
   "source": [
    "movies_labels"
   ],
   "metadata": {
    "collapsed": false,
    "ExecuteTime": {
     "end_time": "2023-08-28T13:39:51.201535600Z",
     "start_time": "2023-08-28T13:39:51.184902400Z"
    }
   }
  },
  {
   "cell_type": "code",
   "execution_count": null,
   "outputs": [],
   "source": [],
   "metadata": {
    "collapsed": false
   }
  },
  {
   "cell_type": "code",
   "execution_count": null,
   "outputs": [],
   "source": [],
   "metadata": {
    "collapsed": false
   }
  },
  {
   "cell_type": "code",
   "execution_count": null,
   "outputs": [],
   "source": [],
   "metadata": {
    "collapsed": false
   }
  },
  {
   "cell_type": "code",
   "execution_count": 8,
   "outputs": [],
   "source": [
    "movies_labels.reset_index(drop=True, inplace=True)"
   ],
   "metadata": {
    "collapsed": false,
    "ExecuteTime": {
     "end_time": "2023-08-31T09:45:19.710548600Z",
     "start_time": "2023-08-31T09:45:19.702505700Z"
    }
   }
  },
  {
   "cell_type": "code",
   "execution_count": 9,
   "outputs": [],
   "source": [
    "def split_text_by_n_words(text: str, n: int=10) -> list:\n",
    "    tokens = text.split()\n",
    "    chunked_text = []\n",
    "\n",
    "    for i in range(0, len(tokens), n):\n",
    "        chunk = \" \".join(tokens[i:i+n])\n",
    "        chunked_text.append(chunk)\n",
    "\n",
    "    return chunked_text"
   ],
   "metadata": {
    "collapsed": false,
    "ExecuteTime": {
     "end_time": "2023-08-31T09:45:21.233471600Z",
     "start_time": "2023-08-31T09:45:21.217418600Z"
    }
   }
  },
  {
   "cell_type": "code",
   "execution_count": 10,
   "outputs": [],
   "source": [
    "texts = []\n",
    "levels = []\n",
    "movies = []\n",
    "\n",
    "for i in range(movies_labels.shape[0]):\n",
    "    text = movies_labels.loc[i, 'subs']\n",
    "    level = movies_labels.loc[i, 'level']\n",
    "    movie = movies_labels.loc[i, 'movie']\n",
    "\n",
    "    sentences = split_text_by_n_words(text, 256)\n",
    "\n",
    "    texts.extend(sentences)\n",
    "    levels.extend([level] * len(sentences))\n",
    "    movies.extend([movie] * len(sentences))"
   ],
   "metadata": {
    "collapsed": false,
    "ExecuteTime": {
     "end_time": "2023-08-31T09:45:54.113846400Z",
     "start_time": "2023-08-31T09:45:53.899111200Z"
    }
   }
  },
  {
   "cell_type": "code",
   "execution_count": 11,
   "outputs": [
    {
     "data": {
      "text/plain": "(11483, 11483, 11483)"
     },
     "execution_count": 11,
     "metadata": {},
     "output_type": "execute_result"
    }
   ],
   "source": [
    "len(texts), len(levels), len(movies)"
   ],
   "metadata": {
    "collapsed": false,
    "ExecuteTime": {
     "end_time": "2023-08-31T09:45:54.652293Z",
     "start_time": "2023-08-31T09:45:54.645804100Z"
    }
   }
  },
  {
   "cell_type": "code",
   "execution_count": 12,
   "outputs": [
    {
     "data": {
      "text/plain": "                                                text  level  \\\n0  ben on phone michelle, please don t hang up. j...      3   \n1  your wallet. given as how i saved your life, i...      3   \n2  and make sure they re okay. michelle, they re ...      3   \n3  he s sorry for, correct? totally. let s go. ba...      3   \n4  possible. i heard one earlier. above my room. ...      3   \n\n                       movie  \n0  10_Cloverfield_lane(2016)  \n1  10_Cloverfield_lane(2016)  \n2  10_Cloverfield_lane(2016)  \n3  10_Cloverfield_lane(2016)  \n4  10_Cloverfield_lane(2016)  ",
      "text/html": "<div>\n<style scoped>\n    .dataframe tbody tr th:only-of-type {\n        vertical-align: middle;\n    }\n\n    .dataframe tbody tr th {\n        vertical-align: top;\n    }\n\n    .dataframe thead th {\n        text-align: right;\n    }\n</style>\n<table border=\"1\" class=\"dataframe\">\n  <thead>\n    <tr style=\"text-align: right;\">\n      <th></th>\n      <th>text</th>\n      <th>level</th>\n      <th>movie</th>\n    </tr>\n  </thead>\n  <tbody>\n    <tr>\n      <th>0</th>\n      <td>ben on phone michelle, please don t hang up. j...</td>\n      <td>3</td>\n      <td>10_Cloverfield_lane(2016)</td>\n    </tr>\n    <tr>\n      <th>1</th>\n      <td>your wallet. given as how i saved your life, i...</td>\n      <td>3</td>\n      <td>10_Cloverfield_lane(2016)</td>\n    </tr>\n    <tr>\n      <th>2</th>\n      <td>and make sure they re okay. michelle, they re ...</td>\n      <td>3</td>\n      <td>10_Cloverfield_lane(2016)</td>\n    </tr>\n    <tr>\n      <th>3</th>\n      <td>he s sorry for, correct? totally. let s go. ba...</td>\n      <td>3</td>\n      <td>10_Cloverfield_lane(2016)</td>\n    </tr>\n    <tr>\n      <th>4</th>\n      <td>possible. i heard one earlier. above my room. ...</td>\n      <td>3</td>\n      <td>10_Cloverfield_lane(2016)</td>\n    </tr>\n  </tbody>\n</table>\n</div>"
     },
     "execution_count": 12,
     "metadata": {},
     "output_type": "execute_result"
    }
   ],
   "source": [
    "sentences_df = pd.DataFrame({'text': texts, 'level': levels, 'movie': movies})\n",
    "sentences_df.head()"
   ],
   "metadata": {
    "collapsed": false,
    "ExecuteTime": {
     "end_time": "2023-08-31T09:45:57.211339400Z",
     "start_time": "2023-08-31T09:45:57.128278600Z"
    }
   }
  },
  {
   "cell_type": "code",
   "execution_count": 13,
   "outputs": [
    {
     "data": {
      "text/plain": "level\n2    3955\n1    2722\n0    2464\n3    2342\nName: count, dtype: int64"
     },
     "execution_count": 13,
     "metadata": {},
     "output_type": "execute_result"
    }
   ],
   "source": [
    "sentences_df['level'].value_counts()"
   ],
   "metadata": {
    "collapsed": false,
    "ExecuteTime": {
     "end_time": "2023-08-31T09:46:01.886351100Z",
     "start_time": "2023-08-31T09:46:01.870402300Z"
    }
   }
  },
  {
   "cell_type": "code",
   "execution_count": 14,
   "outputs": [],
   "source": [
    "sentences_df.to_csv('data/English_scores/sentences_big.csv', index=False)"
   ],
   "metadata": {
    "collapsed": false,
    "ExecuteTime": {
     "end_time": "2023-08-31T09:46:09.515010500Z",
     "start_time": "2023-08-31T09:46:09.216966100Z"
    }
   }
  },
  {
   "cell_type": "code",
   "execution_count": null,
   "outputs": [],
   "source": [],
   "metadata": {
    "collapsed": false
   }
  },
  {
   "cell_type": "code",
   "execution_count": null,
   "outputs": [],
   "source": [],
   "metadata": {
    "collapsed": false
   }
  },
  {
   "cell_type": "code",
   "execution_count": null,
   "outputs": [],
   "source": [],
   "metadata": {
    "collapsed": false
   }
  },
  {
   "cell_type": "code",
   "execution_count": null,
   "outputs": [],
   "source": [],
   "metadata": {
    "collapsed": false
   }
  },
  {
   "cell_type": "code",
   "execution_count": null,
   "outputs": [],
   "source": [],
   "metadata": {
    "collapsed": false
   }
  },
  {
   "cell_type": "code",
   "execution_count": null,
   "outputs": [],
   "source": [],
   "metadata": {
    "collapsed": false
   }
  },
  {
   "cell_type": "code",
   "execution_count": null,
   "outputs": [],
   "source": [],
   "metadata": {
    "collapsed": false
   }
  },
  {
   "cell_type": "code",
   "execution_count": null,
   "outputs": [],
   "source": [],
   "metadata": {
    "collapsed": false
   }
  },
  {
   "cell_type": "code",
   "execution_count": null,
   "outputs": [],
   "source": [],
   "metadata": {
    "collapsed": false
   }
  },
  {
   "cell_type": "code",
   "execution_count": null,
   "outputs": [],
   "source": [],
   "metadata": {
    "collapsed": false
   }
  },
  {
   "cell_type": "code",
   "execution_count": null,
   "outputs": [],
   "source": [],
   "metadata": {
    "collapsed": false
   }
  },
  {
   "cell_type": "code",
   "execution_count": 143,
   "outputs": [],
   "source": [],
   "metadata": {
    "collapsed": false,
    "ExecuteTime": {
     "end_time": "2023-08-26T10:26:03.544957400Z",
     "start_time": "2023-08-26T10:26:03.511444700Z"
    }
   }
  }
 ],
 "metadata": {
  "kernelspec": {
   "display_name": "Python 3",
   "language": "python",
   "name": "python3"
  },
  "language_info": {
   "codemirror_mode": {
    "name": "ipython",
    "version": 2
   },
   "file_extension": ".py",
   "mimetype": "text/x-python",
   "name": "python",
   "nbconvert_exporter": "python",
   "pygments_lexer": "ipython2",
   "version": "2.7.6"
  }
 },
 "nbformat": 4,
 "nbformat_minor": 0
}
