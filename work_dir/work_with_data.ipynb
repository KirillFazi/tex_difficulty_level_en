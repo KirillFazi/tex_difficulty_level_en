{
 "cells": [
  {
   "cell_type": "code",
   "execution_count": null,
   "metadata": {
    "collapsed": true
   },
   "outputs": [],
   "source": []
  },
  {
   "cell_type": "markdown",
   "source": [
    "Проект:\n",
    "\n",
    "Запрос сформирован в связи с тем, что просмотр фильмов на языке оригинала является популярным и эффективным методом прокачки при изучении иностранных языков. При этом важно выбрать фильм, соответствующий уровню сложности студента, т.е. чтобы студент понимал 50-70% диалогов. Чтобы выполнить это условие, преподаватель должен посмотреть фильм и определить, какому уровню он соответствует. Однако это требует больших временных затрат.\n",
    "\n",
    "Наша задача:\n",
    "\n",
    "Разработать ML-решение для автоматического определения уровня сложности англоязычных фильмов.\n",
    "\n",
    "В решении поставленной задачи могут помочь следующие шаги:\n",
    "1. Загрузить данные\n",
    "2. Провести EDA\n",
    "3. Попытаться собрать больше данных\n",
    "4. изучить способы решения аналогичных задач: работа с текстовыми данными лемматизация, стемминг, стоп-слова и т.д., библиотеки NLP.\n",
    "5. Построить базовую модель, оценить качество\n",
    "6. Доработать решение (повторить шаги 3-6)"
   ],
   "metadata": {
    "collapsed": false
   }
  },
  {
   "cell_type": "markdown",
   "source": [
    "1. Понимание проблемы:\n",
    "Тщательно изучите проблему, включая требования, ограничения и цели. Разбейте задачу на более мелкие подзадачи и убедитесь, что у вас есть четкое понимание того, что ожидается от решения.\n",
    "\n",
    "2. Сбор и предварительная обработка данных:\n",
    "Соберите набор данных транскриптов англоязычных фильмов с соответствующими уровнями сложности. Можно использовать такие источники, как субтитры, сценарии фильмов или онлайновые базы данных. Предварительно обработайте данные, очистив текст, удалив специальные символы и преобразовав их в строчные.\n",
    "\n",
    "3. Эксплораторный анализ данных (EDA):\n",
    "Проанализируйте набор данных, чтобы получить представление о распределении уровней сложности, длине текстов и любых закономерностях, которые могут возникнуть. Этот этап поможет лучше понять данные и направить процесс разработки функций.\n",
    "\n",
    "4. Расширение данных:\n",
    "Если набор данных ограничен, рассмотрите возможность его дополнения путем создания синтетических данных или использования таких методов, как обратный перевод, для создания дополнительных примеров. Это поможет повысить эффективность модели.\n",
    "\n",
    "5. Предварительная обработка текста:\n",
    "Применяются такие методы НЛП, как токенизация, лемматизация и удаление стоп-слов. Эти действия позволяют подготовить текстовые данные для ввода в модель.\n",
    "\n",
    "6. Извлечение признаков с помощью трансформаторов:\n",
    "Использование предварительно обученных моделей трансформаторов из библиотек, таких как Hugging Face Transformers. Эти модели, такие как BERT, GPT-2 или RoBERTa, были обучены на огромных объемах текста и могут извлекать из текстовых данных богатые контекстуальные вкрапления. Настройте эти модели на конкретную задачу, чтобы повысить их производительность.\n",
    "\n",
    "7. Архитектура модели:\n",
    "Разработайте архитектуру модели. Вы можете использовать PyTorch для создания собственных архитектур нейронных сетей или модифицировать существующие архитектуры для решения конкретной задачи. Входными данными для модели будут контекстные вкрапления, сгенерированные моделью трансформатора.\n",
    "\n",
    "8. Базовая модель:\n",
    "Постройте базовую модель, используя разработанную архитектуру. Обучите модель на своем наборе данных и оцените ее производительность с помощью соответствующих метрик для задачи классификации. Это послужит отправной точкой для итеративных улучшений.\n",
    "\n",
    "9. Оценка и доработка модели:\n",
    "Проанализируйте производительность базовой модели и определите области, требующие улучшения. Экспериментируйте с различными гиперпараметрами, архитектурой модели и методиками для повышения точности модели. Для оценки устойчивости модели можно использовать такие методы, как перекрестная валидация.\n",
    "\n",
    "10. Итерация и оптимизация:\n",
    "Итеративно дорабатывайте модель, возвращаясь к шагам 3-6. Собирайте больше данных, экспериментируйте с различными методиками и настраивайте модель для достижения лучших результатов.\n",
    "\n",
    "11. Документирование и презентация:\n",
    "Документируйте каждый этап работы, включая предварительную обработку данных, архитектуру модели, гиперпараметры и результаты. Создайте четкую и лаконичную презентацию с кратким описанием вашего подхода, возникших проблем и итоговой эффективности модели.\n",
    "\n",
    "12. Будущие усовершенствования:\n",
    "Рассмотрите дополнительные возможности и методы, которые могут еще больше повысить точность модели. Можно рассмотреть ансамблевые методы, более совершенные архитектуры трансформаторов или использование внешних ресурсов."
   ],
   "metadata": {
    "collapsed": false
   }
  },
  {
   "cell_type": "code",
   "execution_count": 2,
   "outputs": [],
   "source": [
    "import os\n",
    "import shutil\n",
    "import re\n",
    "\n",
    "import pandas as pd\n",
    "import numpy as np\n",
    "\n",
    "import torch\n",
    "\n",
    "import transformers\n",
    "from transformers import BertTokenizer, BertForSequenceClassification, AdamW\n",
    "\n",
    "from sklearn.model_selection import train_test_split\n",
    "from sklearn.metrics import accuracy_score\n",
    "\n",
    "import warnings\n",
    "warnings.filterwarnings('ignore')"
   ],
   "metadata": {
    "collapsed": false,
    "ExecuteTime": {
     "end_time": "2023-08-31T08:55:03.951611700Z",
     "start_time": "2023-08-31T08:54:53.683522400Z"
    }
   }
  },
  {
   "cell_type": "code",
   "execution_count": 3,
   "outputs": [],
   "source": [
    "movies_labels = pd.read_excel('data/English_scores/movies_labels.xlsx')\n",
    "# movies_labels = pd.read_csv('data/English_scores/movies_labels.csv')"
   ],
   "metadata": {
    "collapsed": false,
    "ExecuteTime": {
     "end_time": "2023-08-31T08:55:04.432449300Z",
     "start_time": "2023-08-31T08:55:03.951611700Z"
    }
   }
  },
  {
   "cell_type": "code",
   "execution_count": 9,
   "outputs": [
    {
     "data": {
      "text/plain": "      id                             movie level\n0      0         10_Cloverfield_lane(2016)    B1\n1      1  10_things_I_hate_about_you(1999)    B1\n2      2              A_knights_tale(2001)    B2\n3      3              A_star_is_born(2018)    B2\n4      4                     Aladdin(1992)    A2\n..   ...                               ...   ...\n236  236                     Matilda(2022)    C1\n237  237                      Bullet train    B1\n238  238            Thor: love and thunder    B2\n239  239                         Lightyear    B2\n240  240                        The Grinch    B1\n\n[241 rows x 3 columns]",
      "text/html": "<div>\n<style scoped>\n    .dataframe tbody tr th:only-of-type {\n        vertical-align: middle;\n    }\n\n    .dataframe tbody tr th {\n        vertical-align: top;\n    }\n\n    .dataframe thead th {\n        text-align: right;\n    }\n</style>\n<table border=\"1\" class=\"dataframe\">\n  <thead>\n    <tr style=\"text-align: right;\">\n      <th></th>\n      <th>id</th>\n      <th>movie</th>\n      <th>level</th>\n    </tr>\n  </thead>\n  <tbody>\n    <tr>\n      <th>0</th>\n      <td>0</td>\n      <td>10_Cloverfield_lane(2016)</td>\n      <td>B1</td>\n    </tr>\n    <tr>\n      <th>1</th>\n      <td>1</td>\n      <td>10_things_I_hate_about_you(1999)</td>\n      <td>B1</td>\n    </tr>\n    <tr>\n      <th>2</th>\n      <td>2</td>\n      <td>A_knights_tale(2001)</td>\n      <td>B2</td>\n    </tr>\n    <tr>\n      <th>3</th>\n      <td>3</td>\n      <td>A_star_is_born(2018)</td>\n      <td>B2</td>\n    </tr>\n    <tr>\n      <th>4</th>\n      <td>4</td>\n      <td>Aladdin(1992)</td>\n      <td>A2</td>\n    </tr>\n    <tr>\n      <th>...</th>\n      <td>...</td>\n      <td>...</td>\n      <td>...</td>\n    </tr>\n    <tr>\n      <th>236</th>\n      <td>236</td>\n      <td>Matilda(2022)</td>\n      <td>C1</td>\n    </tr>\n    <tr>\n      <th>237</th>\n      <td>237</td>\n      <td>Bullet train</td>\n      <td>B1</td>\n    </tr>\n    <tr>\n      <th>238</th>\n      <td>238</td>\n      <td>Thor: love and thunder</td>\n      <td>B2</td>\n    </tr>\n    <tr>\n      <th>239</th>\n      <td>239</td>\n      <td>Lightyear</td>\n      <td>B2</td>\n    </tr>\n    <tr>\n      <th>240</th>\n      <td>240</td>\n      <td>The Grinch</td>\n      <td>B1</td>\n    </tr>\n  </tbody>\n</table>\n<p>241 rows × 3 columns</p>\n</div>"
     },
     "execution_count": 9,
     "metadata": {},
     "output_type": "execute_result"
    }
   ],
   "source": [
    "movies_labels"
   ],
   "metadata": {
    "collapsed": false,
    "ExecuteTime": {
     "end_time": "2023-08-31T08:57:30.394789800Z",
     "start_time": "2023-08-31T08:57:30.363156500Z"
    }
   }
  },
  {
   "cell_type": "code",
   "execution_count": 103,
   "outputs": [
    {
     "data": {
      "text/plain": "                                movie level\n0           10_Cloverfield_lane(2016)    B1\n1    10_things_I_hate_about_you(1999)    B1\n2                A_knights_tale(2001)    B2\n3                A_star_is_born(2018)    B2\n4                       Aladdin(1992)    A2\n..                                ...   ...\n107                       Venom(2018)    B2\n108                 Warm_bodies(2013)    B1\n109          We_are_the_Millers(2013)    B1\n110     While_You_Were_Sleeping(1995)    B1\n111                    Zootopia(2016)    B2\n\n[110 rows x 2 columns]",
      "text/html": "<div>\n<style scoped>\n    .dataframe tbody tr th:only-of-type {\n        vertical-align: middle;\n    }\n\n    .dataframe tbody tr th {\n        vertical-align: top;\n    }\n\n    .dataframe thead th {\n        text-align: right;\n    }\n</style>\n<table border=\"1\" class=\"dataframe\">\n  <thead>\n    <tr style=\"text-align: right;\">\n      <th></th>\n      <th>movie</th>\n      <th>level</th>\n    </tr>\n  </thead>\n  <tbody>\n    <tr>\n      <th>0</th>\n      <td>10_Cloverfield_lane(2016)</td>\n      <td>B1</td>\n    </tr>\n    <tr>\n      <th>1</th>\n      <td>10_things_I_hate_about_you(1999)</td>\n      <td>B1</td>\n    </tr>\n    <tr>\n      <th>2</th>\n      <td>A_knights_tale(2001)</td>\n      <td>B2</td>\n    </tr>\n    <tr>\n      <th>3</th>\n      <td>A_star_is_born(2018)</td>\n      <td>B2</td>\n    </tr>\n    <tr>\n      <th>4</th>\n      <td>Aladdin(1992)</td>\n      <td>A2</td>\n    </tr>\n    <tr>\n      <th>...</th>\n      <td>...</td>\n      <td>...</td>\n    </tr>\n    <tr>\n      <th>107</th>\n      <td>Venom(2018)</td>\n      <td>B2</td>\n    </tr>\n    <tr>\n      <th>108</th>\n      <td>Warm_bodies(2013)</td>\n      <td>B1</td>\n    </tr>\n    <tr>\n      <th>109</th>\n      <td>We_are_the_Millers(2013)</td>\n      <td>B1</td>\n    </tr>\n    <tr>\n      <th>110</th>\n      <td>While_You_Were_Sleeping(1995)</td>\n      <td>B1</td>\n    </tr>\n    <tr>\n      <th>111</th>\n      <td>Zootopia(2016)</td>\n      <td>B2</td>\n    </tr>\n  </tbody>\n</table>\n<p>110 rows × 2 columns</p>\n</div>"
     },
     "execution_count": 103,
     "metadata": {},
     "output_type": "execute_result"
    }
   ],
   "source": [
    "# show films without subtitles in folder Subtitles\n",
    "subtitles_folder = 'data/English_scores/Subtitles_all/Subtitles'\n",
    "\n",
    "sub_names = os.listdir(subtitles_folder)\n",
    "sub_names = [sub_name[:-4] for sub_name in sub_names]"
   ],
   "metadata": {
    "collapsed": false,
    "ExecuteTime": {
     "end_time": "2023-08-30T09:45:54.906234900Z",
     "start_time": "2023-08-30T09:45:54.875208700Z"
    }
   }
  },
  {
   "cell_type": "code",
   "execution_count": 115,
   "outputs": [],
   "source": [
    "movies_labels = movies_labels.loc[movies_labels['movie'].isin(sub_names)]"
   ],
   "metadata": {
    "collapsed": false,
    "ExecuteTime": {
     "end_time": "2023-08-30T09:50:41.028075400Z",
     "start_time": "2023-08-30T09:50:41.012218800Z"
    }
   }
  },
  {
   "cell_type": "code",
   "execution_count": 5,
   "outputs": [],
   "source": [
    "movies_labels.drop_duplicates(inplace=True)"
   ],
   "metadata": {
    "collapsed": false,
    "ExecuteTime": {
     "end_time": "2023-08-31T08:55:38.384204200Z",
     "start_time": "2023-08-31T08:55:38.321370500Z"
    }
   }
  },
  {
   "cell_type": "code",
   "execution_count": 118,
   "outputs": [
    {
     "name": "stdout",
     "output_type": "stream",
     "text": [
      "<class 'pandas.core.frame.DataFrame'>\n",
      "Index: 108 entries, 0 to 111\n",
      "Data columns (total 2 columns):\n",
      " #   Column  Non-Null Count  Dtype \n",
      "---  ------  --------------  ----- \n",
      " 0   movie   108 non-null    object\n",
      " 1   level   108 non-null    object\n",
      "dtypes: object(2)\n",
      "memory usage: 2.5+ KB\n"
     ]
    }
   ],
   "source": [
    "movies_labels.info()"
   ],
   "metadata": {
    "collapsed": false,
    "ExecuteTime": {
     "end_time": "2023-08-30T09:51:00.179160300Z",
     "start_time": "2023-08-30T09:51:00.132113600Z"
    }
   }
  },
  {
   "cell_type": "code",
   "execution_count": 119,
   "outputs": [
    {
     "data": {
      "text/plain": "level\nB1    43\nA2    30\nB2    29\nC1     6\nName: count, dtype: int64"
     },
     "execution_count": 119,
     "metadata": {},
     "output_type": "execute_result"
    }
   ],
   "source": [
    "movies_labels.value_counts('level')"
   ],
   "metadata": {
    "collapsed": false,
    "ExecuteTime": {
     "end_time": "2023-08-30T09:51:29.630855100Z",
     "start_time": "2023-08-30T09:51:29.583530100Z"
    }
   }
  },
  {
   "cell_type": "code",
   "execution_count": 7,
   "outputs": [],
   "source": [
    "# change columns to lower\n",
    "movies_labels.columns = movies_labels.columns.str.lower()"
   ],
   "metadata": {
    "collapsed": false,
    "ExecuteTime": {
     "end_time": "2023-08-31T08:57:24.400972700Z",
     "start_time": "2023-08-31T08:57:24.385062300Z"
    }
   }
  },
  {
   "cell_type": "code",
   "execution_count": 8,
   "outputs": [],
   "source": [
    "movies_labels.loc[movies_labels['level'] == 'A2/A2+', 'level'] = 'A2'\n",
    "movies_labels.loc[movies_labels['level'] == 'B1, B2', 'level'] = 'B1'\n",
    "movies_labels.loc[movies_labels['level'] == 'A2/A2+, B1', 'level'] = 'A2'"
   ],
   "metadata": {
    "collapsed": false,
    "ExecuteTime": {
     "end_time": "2023-08-31T08:57:25.858284800Z",
     "start_time": "2023-08-31T08:57:25.826935900Z"
    }
   }
  },
  {
   "cell_type": "code",
   "execution_count": 101,
   "outputs": [
    {
     "data": {
      "text/plain": "level\nB2    101\nB1     63\nC1     40\nA2     37\nName: count, dtype: int64"
     },
     "execution_count": 101,
     "metadata": {},
     "output_type": "execute_result"
    }
   ],
   "source": [
    "movies_labels.value_counts('level')"
   ],
   "metadata": {
    "collapsed": false,
    "ExecuteTime": {
     "end_time": "2023-08-30T09:44:53.112165300Z",
     "start_time": "2023-08-30T09:44:53.049333200Z"
    }
   }
  },
  {
   "cell_type": "code",
   "execution_count": 120,
   "outputs": [],
   "source": [
    "new_movies_labels = movies_labels.copy()"
   ],
   "metadata": {
    "collapsed": false,
    "ExecuteTime": {
     "end_time": "2023-08-30T09:51:40.390585600Z",
     "start_time": "2023-08-30T09:51:40.390585600Z"
    }
   }
  },
  {
   "cell_type": "code",
   "execution_count": 121,
   "outputs": [],
   "source": [
    "# add movies from folder (A1, A2, B1, B2, C1) in movies_labels and copy subtitles to folder\n",
    "subtitles_folder = 'data/English_scores/Subtitles_all'\n",
    "level_folders = ['A2', 'B1', 'B2', 'C1']\n",
    "\n",
    "new_rows = []\n",
    "\n",
    "for level_folder in level_folders:\n",
    "    full_path = os.path.join(subtitles_folder, level_folder)\n",
    "    for file in os.listdir(full_path):\n",
    "        new_row = {'movie': file[:-4], 'level': level_folder}\n",
    "        new_rows.append(new_row)\n",
    "\n",
    "        shutil.copy(os.path.join(full_path, file), os.path.join(subtitles_folder, 'Subtitles', file))\n",
    "        os.remove(os.path.join(full_path, file))"
   ],
   "metadata": {
    "collapsed": false,
    "ExecuteTime": {
     "end_time": "2023-08-30T09:51:44.769103600Z",
     "start_time": "2023-08-30T09:51:44.054060300Z"
    }
   }
  },
  {
   "cell_type": "code",
   "execution_count": 122,
   "outputs": [],
   "source": [
    "new_movies_df = pd.DataFrame(new_rows)\n",
    "new_movies_labels = pd.concat([new_movies_labels, new_movies_df], ignore_index=True)"
   ],
   "metadata": {
    "collapsed": false,
    "ExecuteTime": {
     "end_time": "2023-08-30T09:51:46.178104700Z",
     "start_time": "2023-08-30T09:51:46.146404300Z"
    }
   }
  },
  {
   "cell_type": "code",
   "execution_count": 123,
   "outputs": [
    {
     "data": {
      "text/plain": "                                                 movie level\n0    Alice.In.Wonderland.2010.Bluray.1080p.DTSHD-MA...    A2\n1    Charlie.and.the.Chocolate.Factory.2005.720p.Br...    A2\n2                   Chicken.Run.2000.1080p.BluRay.x264    A2\n3         Despicable.Me.2.2013.720p.BluRay.x264-VeDeTT    A2\n4                 Dolphin.Tale.DVDRip.XviD-DiAMOND-CD1    A2\n..                                                 ...   ...\n254       There.Will.Be.Blood[2007]DvDrip[Eng]-aXXo.en    C1\n255                                    timpe-inception    C1\n256     Trainspotting.1996.720p.BluRay.x264-SiNNERS.EN    C1\n257           Twelve.Monkeys.(1995).DVDRip.XviD-UnSeeN    C1\n258  [2000] Darren Aronofsky - Requiem for a Dream ...    C1\n\n[259 rows x 2 columns]",
      "text/html": "<div>\n<style scoped>\n    .dataframe tbody tr th:only-of-type {\n        vertical-align: middle;\n    }\n\n    .dataframe tbody tr th {\n        vertical-align: top;\n    }\n\n    .dataframe thead th {\n        text-align: right;\n    }\n</style>\n<table border=\"1\" class=\"dataframe\">\n  <thead>\n    <tr style=\"text-align: right;\">\n      <th></th>\n      <th>movie</th>\n      <th>level</th>\n    </tr>\n  </thead>\n  <tbody>\n    <tr>\n      <th>0</th>\n      <td>Alice.In.Wonderland.2010.Bluray.1080p.DTSHD-MA...</td>\n      <td>A2</td>\n    </tr>\n    <tr>\n      <th>1</th>\n      <td>Charlie.and.the.Chocolate.Factory.2005.720p.Br...</td>\n      <td>A2</td>\n    </tr>\n    <tr>\n      <th>2</th>\n      <td>Chicken.Run.2000.1080p.BluRay.x264</td>\n      <td>A2</td>\n    </tr>\n    <tr>\n      <th>3</th>\n      <td>Despicable.Me.2.2013.720p.BluRay.x264-VeDeTT</td>\n      <td>A2</td>\n    </tr>\n    <tr>\n      <th>4</th>\n      <td>Dolphin.Tale.DVDRip.XviD-DiAMOND-CD1</td>\n      <td>A2</td>\n    </tr>\n    <tr>\n      <th>...</th>\n      <td>...</td>\n      <td>...</td>\n    </tr>\n    <tr>\n      <th>254</th>\n      <td>There.Will.Be.Blood[2007]DvDrip[Eng]-aXXo.en</td>\n      <td>C1</td>\n    </tr>\n    <tr>\n      <th>255</th>\n      <td>timpe-inception</td>\n      <td>C1</td>\n    </tr>\n    <tr>\n      <th>256</th>\n      <td>Trainspotting.1996.720p.BluRay.x264-SiNNERS.EN</td>\n      <td>C1</td>\n    </tr>\n    <tr>\n      <th>257</th>\n      <td>Twelve.Monkeys.(1995).DVDRip.XviD-UnSeeN</td>\n      <td>C1</td>\n    </tr>\n    <tr>\n      <th>258</th>\n      <td>[2000] Darren Aronofsky - Requiem for a Dream ...</td>\n      <td>C1</td>\n    </tr>\n  </tbody>\n</table>\n<p>259 rows × 2 columns</p>\n</div>"
     },
     "execution_count": 123,
     "metadata": {},
     "output_type": "execute_result"
    }
   ],
   "source": [
    "new_movies_df"
   ],
   "metadata": {
    "collapsed": false,
    "ExecuteTime": {
     "end_time": "2023-08-30T09:51:46.674101500Z",
     "start_time": "2023-08-30T09:51:46.626976700Z"
    }
   }
  },
  {
   "cell_type": "code",
   "execution_count": 124,
   "outputs": [
    {
     "data": {
      "text/plain": "level\nB2    136\nA2     81\nB1     81\nC1     69\nName: count, dtype: int64"
     },
     "execution_count": 124,
     "metadata": {},
     "output_type": "execute_result"
    }
   ],
   "source": [
    "new_movies_labels.value_counts('level')"
   ],
   "metadata": {
    "collapsed": false,
    "ExecuteTime": {
     "end_time": "2023-08-30T09:51:55.951822700Z",
     "start_time": "2023-08-30T09:51:55.935761500Z"
    }
   }
  },
  {
   "cell_type": "code",
   "execution_count": 125,
   "outputs": [],
   "source": [
    "# save new movies_labels\n",
    "new_movies_labels.to_csv('data/English_scores/movies_labels_big.csv', index=False)"
   ],
   "metadata": {
    "collapsed": false,
    "ExecuteTime": {
     "end_time": "2023-08-30T09:52:14.466328700Z",
     "start_time": "2023-08-30T09:52:14.450527400Z"
    }
   }
  },
  {
   "cell_type": "code",
   "execution_count": 128,
   "outputs": [
    {
     "data": {
      "text/plain": "                                                 movie level\n0                            10_Cloverfield_lane(2016)    B1\n1                     10_things_I_hate_about_you(1999)    B1\n2                                 A_knights_tale(2001)    B2\n3                                 A_star_is_born(2018)    B2\n4                                        Aladdin(1992)    A2\n..                                                 ...   ...\n362       There.Will.Be.Blood[2007]DvDrip[Eng]-aXXo.en    C1\n363                                    timpe-inception    C1\n364     Trainspotting.1996.720p.BluRay.x264-SiNNERS.EN    C1\n365           Twelve.Monkeys.(1995).DVDRip.XviD-UnSeeN    C1\n366  [2000] Darren Aronofsky - Requiem for a Dream ...    C1\n\n[367 rows x 2 columns]",
      "text/html": "<div>\n<style scoped>\n    .dataframe tbody tr th:only-of-type {\n        vertical-align: middle;\n    }\n\n    .dataframe tbody tr th {\n        vertical-align: top;\n    }\n\n    .dataframe thead th {\n        text-align: right;\n    }\n</style>\n<table border=\"1\" class=\"dataframe\">\n  <thead>\n    <tr style=\"text-align: right;\">\n      <th></th>\n      <th>movie</th>\n      <th>level</th>\n    </tr>\n  </thead>\n  <tbody>\n    <tr>\n      <th>0</th>\n      <td>10_Cloverfield_lane(2016)</td>\n      <td>B1</td>\n    </tr>\n    <tr>\n      <th>1</th>\n      <td>10_things_I_hate_about_you(1999)</td>\n      <td>B1</td>\n    </tr>\n    <tr>\n      <th>2</th>\n      <td>A_knights_tale(2001)</td>\n      <td>B2</td>\n    </tr>\n    <tr>\n      <th>3</th>\n      <td>A_star_is_born(2018)</td>\n      <td>B2</td>\n    </tr>\n    <tr>\n      <th>4</th>\n      <td>Aladdin(1992)</td>\n      <td>A2</td>\n    </tr>\n    <tr>\n      <th>...</th>\n      <td>...</td>\n      <td>...</td>\n    </tr>\n    <tr>\n      <th>362</th>\n      <td>There.Will.Be.Blood[2007]DvDrip[Eng]-aXXo.en</td>\n      <td>C1</td>\n    </tr>\n    <tr>\n      <th>363</th>\n      <td>timpe-inception</td>\n      <td>C1</td>\n    </tr>\n    <tr>\n      <th>364</th>\n      <td>Trainspotting.1996.720p.BluRay.x264-SiNNERS.EN</td>\n      <td>C1</td>\n    </tr>\n    <tr>\n      <th>365</th>\n      <td>Twelve.Monkeys.(1995).DVDRip.XviD-UnSeeN</td>\n      <td>C1</td>\n    </tr>\n    <tr>\n      <th>366</th>\n      <td>[2000] Darren Aronofsky - Requiem for a Dream ...</td>\n      <td>C1</td>\n    </tr>\n  </tbody>\n</table>\n<p>367 rows × 2 columns</p>\n</div>"
     },
     "execution_count": 128,
     "metadata": {},
     "output_type": "execute_result"
    }
   ],
   "source": [
    "new_movies_labels"
   ],
   "metadata": {
    "collapsed": false,
    "ExecuteTime": {
     "end_time": "2023-08-30T09:52:42.426003100Z",
     "start_time": "2023-08-30T09:52:42.394742100Z"
    }
   }
  },
  {
   "cell_type": "code",
   "execution_count": 35,
   "outputs": [
    {
     "name": "stdout",
     "output_type": "stream",
     "text": [
      "No level for .DS_Store\n",
      "No level for 2001.A.Space.Odyssey.BluRay.720p.DTS.x264-CtrlHD.eng.srt\n",
      "No level for A.Beautiful.Mind.2001.720p.HDTV.x264-S26.srt\n",
      "No level for A.Clockwork.Orange.1971.1080p.BluRay.x264-TiMELORDS.srt\n",
      "No level for Adaptation.2002.DVDRip.XviD-DiSSOLVE.srt\n",
      "No level for Alice.In.Wonderland.2010.Bluray.1080p.DTSHD-MA.x264.dxva-FraMeSToR.ENG.srt\n",
      "No level for Ameli.2001.x264.BDRip.720p.srt\n",
      "No level for American.Psycho.2000.720p.BrRip.x264.YIFY.srt\n",
      "No level for b-pd2wsa.srt\n",
      "No level for b-pd2wsb.srt\n",
      "No level for Back.To.The.Future.1985.720p.BluRay.x264.DTS-WiKi.eng.srt\n",
      "No level for Black.Swan.2010.720p.BRRip.XviD.AC3-ViSiON.srt\n",
      "No level for Blade.Runner[Remastered.Director's.Cut]DvDrip[Eng]-aXXo.srt\n",
      "No level for Breaking_Bad_The_Movie(2017).srt\n",
      "No level for Bren╨Т.Brown.The.Call.to.Courage.2019.720.NF.720p.DDP.5.1.x264-CafeFlix.srt\n",
      "No level for Casper.srt\n",
      "No level for Charlie.and.the.Chocolate.Factory.2005.720p.BrRip.x264.BOKUTOX.YIFY.srt\n",
      "No level for Chicken.Run.2000.1080p.BluRay.x264.srt\n",
      "No level for Crown, The S01E01 - Wolferton Splash.en.SDH.srt\n",
      "No level for Crown, The S01E01 - Wolferton Splash.en.srt\n",
      "No level for Crown, The S01E02 - Hyde Park Corner.en.SDH.srt\n",
      "No level for Crown, The S01E02 - Hyde Park Corner.en.srt\n",
      "No level for Crown, The S01E03 - Windsor.en.FORCED.srt\n",
      "No level for Crown, The S01E03 - Windsor.en.SDH.srt\n",
      "No level for Crown, The S01E03 - Windsor.en.srt\n",
      "No level for Crown, The S01E04 - Act of God.en.SDH.srt\n",
      "No level for Crown, The S01E04 - Act of God.en.srt\n",
      "No level for Crown, The S01E05 - Smoke and Mirrors.en.FORCED.srt\n",
      "No level for Crown, The S01E05 - Smoke and Mirrors.en.SDH.srt\n",
      "No level for Crown, The S01E05 - Smoke and Mirrors.en.srt\n",
      "No level for Crown, The S01E06 - Gelignite.en.SDH.srt\n",
      "No level for Crown, The S01E06 - Gelignite.en.srt\n",
      "No level for Crown, The S01E07 - Scientia Potentia Est.en.FORCED.srt\n",
      "No level for Crown, The S01E07 - Scientia Potentia Est.en.SDH.srt\n",
      "No level for Crown, The S01E07 - Scientia Potentia Est.en.srt\n",
      "No level for Crown, The S01E08 - Pride & Joy.en.SDH.srt\n",
      "No level for Crown, The S01E08 - Pride & Joy.en.srt\n",
      "No level for Crown, The S01E09 - Assassins.en.SDH.srt\n",
      "No level for Crown, The S01E09 - Assassins.en.srt\n",
      "No level for Crown, The S01E10 - Gloriana.en.FORCED.srt\n",
      "No level for Crown, The S01E10 - Gloriana.en.SDH.srt\n",
      "No level for Crown, The S01E10 - Gloriana.en.srt\n",
      "No level for Despicable.Me.2.2013.720p.BluRay.x264-VeDeTT.srt\n",
      "No level for Dolphin.Tale.DVDRip.XviD-DiAMOND-CD1.srt\n",
      "No level for Dolphin.Tale.DVDRip.XviD-DiAMOND-CD2.srt\n",
      "No level for Donnie.Darko.2001.1080p.PROPER.BluRay.x264-RRH.srt\n",
      "No level for E.T.The.Extra-Terrestrial.1982.720p.BluRay.X264-AMIABLE.srt\n",
      "No level for Eternal.Sunshine.of.the.Spotless.Mind.2004.720p.BluRay.DTS.x264-CtrlHD.srt\n",
      "No level for Ferris.Bueller's.Day.Off.1986.720P.BDRip.X264-TLF.srt\n",
      "No level for Fight.Club.1999.BluRay.1080p.DTS.x264.dxva-EuReKA.ENG.srt\n",
      "No level for Flubber_1997_AC3_5ch_CD1_R.LoVe.AC3-GuRu.com.srt\n",
      "No level for Frozen.2013.WEB-DL.DSNP.srt\n",
      "No level for Gogo_Loves_English.srt\n",
      "No level for Grease.srt\n",
      "No level for Happy.Feet[2006]DvDrip[Eng]-aXXo.srt\n",
      "No level for Harry Potter And The Chamber of Secrets [2002] DvdRip [Eng] - Thizz.Eng.srt\n",
      "No level for Harry.Potter.and.the.Philosopher's.Stone.2001.720p.HDDVD.DTS.x264-ESiR.ENG.srt\n",
      "No level for Harry_Potter_and_the_philosophers_stone(2001).srt\n",
      "No level for Her.2013.720p.BluRay.x264-SPARKS.srt\n",
      "No level for Home Alone 2.srt\n",
      "No level for Home.Alone.1990.720p.BluRay.x264-SiNNERS.srt\n",
      "No level for Hotel.Transylvania.2.2015.720p.BluRay.x264-DRONES-HI.srt\n",
      "No level for How to Train Your Dragon 2 (2014).srt\n",
      "No level for icarus.2017.web.x264-strife.srt\n",
      "No level for Ice Age 2002 BRRip XvidHD 720p-NPW.srt\n",
      "No level for Ice.Age.The.Meltdown.2006.DVDRip.XviD-UnSeeN.srt\n",
      "No level for Inglourious.Basterds.2009.DvDRip-FxM.en.srt\n",
      "No level for Jumanji.1995.BluRay.1080p.DTS.2Audio.x264-CHD.eng.srt\n",
      "No level for Jumanji.Welcome.to.the.Jungle.2017.720p.BluRay.x264-SPARKS.srt\n",
      "No level for Jurassic.Park[1993]DvDrip-aXXo.srt\n",
      "No level for Kung.Fu.Panda.2.720p.BluRay.x264-MHD-EN.srt\n",
      "No level for Lost.in.Translation.2003.BluRay.720p.DTS.x264-CHD.eng.srt\n",
      "No level for Madagascar-Escape.2.Africa[2008]DvDrip-aXXo.en.srt\n",
      "No level for Maleficent.2014.720p.BluRay.x264-SPARKS.srt\n",
      "No level for Matilda.1996.1080p.BluRay.x264.anoXmous_eng.srt\n",
      "No level for Mean.Girls.2004.BluRay.1080p.DTS.x264.dxva-EuReKA.ENG.srt\n",
      "No level for Men.In.Black.1997.1080p.Blu-ray.AVC.DTS-HD.MA.5.1-CHDBits.english.srt\n",
      "No level for Men.in.Black.II[2002]DvDrip-aXXo.srt\n",
      "No level for Monsters.University.2013.720p.BluRay.x264.YIFY.srt\n",
      "No level for Mrs.Doubtfire.1993.720p.BluRay.x264-SiNNERS.srt\n",
      "No level for Night.At.The.Museum.Battle.Of.The.Smithsonian.2009.1080p.BluRay.x264-ETHOS.srt\n",
      "No level for No.Country.For.Old.Men.2007.BluRay.1080p.DTS.x264.dxva-drealiT.ENG.srt\n",
      "No level for Paddington.2.2017.720p.BluRay.X264-AMIABLE.srt\n",
      "No level for Pride_and_Prejudice.srt\n",
      "No level for Princess Diaries - 1CD - Eng - 2001.srt\n",
      "No level for Ratatouille.2007.720p.BluRay.DTS.x264-ESiR.ENG.srt\n",
      "No level for Rio (2011) R5 XviD-MAXSPEED.EN.srt\n",
      "No level for s-panslabyrinth.English.srt\n",
      "No level for Shark.Tale[2004]DVDRip[Eng]-ALLiANCE.srt\n",
      "No level for Shrek 2 for rets version 2007.srt\n",
      "No level for Shrek.(2001).DVDRip.AC3.XviD-MDCTeam.srt\n",
      "No level for Shrek.The.Third[2007]DvDrip.AC3[Eng]-aXXo.srt\n",
      "No level for sk2-xvid_no_italic.srt\n",
      "No level for sk2-xvid_with_italic.srt\n",
      "No level for SlingShot (2014) WEB.eng.srt\n",
      "No level for Stuart.Little.2.2002.BrRip.720p.x264.YIFY.srt\n",
      "No level for Tangled.2010.720p.BluRay.x264-CHD.srt\n",
      "No level for The Goonies[1985]DvDrip[Eng]-Stealthmaster.srt\n",
      "No level for The Gruffalo 2009 DVDRip [A Release-Lounge H264].srt\n",
      "No level for The Incredibles-English.srt\n",
      "No level for The Princess and the Frog (2009).srt\n",
      "No level for The Shawshank Redemption (1994) 720p BrRip x264 [Dual Audio] [Hindi-English]-LokiST [Silve.srt\n",
      "No level for The Sound of Music (EN).sub\n",
      "No level for The Truman Show.srt\n",
      "No level for The.BFG.2016.720p.BluRay.x264-SPARKS.srt\n",
      "No level for The.Big.Lebowski.1998.720p.BrRip.x264.YIFY.eng.srt.srt\n",
      "No level for The.Breakfast.Club.1985.720p.BrRip.x264.YIFY.srt\n",
      "No level for The.Chronicles.Of.Narnia-Prince.Caspian[2008]DvDrip-aXXo.en.srt\n",
      "No level for The.Departed[2006]DvDRip[Eng]-axxo.srt\n",
      "No level for The.Devil.Wears.Prada.2006.BluRay.1080p.x264.DTS-WiKi.ENG.srt\n",
      "No level for The.Grand.Budapest.Hotel.2014.720p.BluRay.x264-BLOW.srt\n",
      "No level for The.Grinch.2018.REMUX.1080p.Blu-ray.AVC.TrueHD.DTS-HD.MA.7.1-LEGi0N.English.srt\n",
      "No level for The.Karate.Kid.2010.1080p.BluRay.H264.AAC-RARBG.srt\n",
      "No level for The.Kings.Speech.2010.BRRip.XviD.AC3-TiMPE.ENG.srt\n",
      "No level for The.Land.Before.Time.I.1988.2ch.[mp4].[Raven007].srt\n",
      "No level for The.LEGO.Batman.Movie.2017.720p.BluRay.x264-Replica.srt\n",
      "No level for The.Lego.Movie.2014.720p.BluRay.x264.YIFY.srt\n",
      "No level for The.Lion.King.2019.1080p.BluRay.x264-SPARKS-HI.srt\n",
      "No level for The.Little.Rascals.1994.720p.BluRay.x264-HD4U.srt\n",
      "No level for The.Lives.Of.Others.2006.DVDRip.srt\n",
      "No level for The.Lobster.2015.LIMITED.720p.BluRay.X264-AMIABLE.HI.srt\n",
      "No level for The.Mighty.Ducks.(1992).DVDRip.DivX3LM.srt\n",
      "No level for The.Parent.Trap.1998.1080p.BluRay.X264-AMIABLE.srt\n",
      "No level for The.Prestige[2006]DvDrip[Eng]-aXXo.srt\n",
      "No level for The.Pursuit.Of.Happyness.2006.BluRay.1080p.x264.DTS.dxva-xander.ENG.srt\n",
      "No level for The.Secret.Life.of.Pets.2016.720p.BluRay.x264-SPARKS.HI.srt\n",
      "No level for The.Sound.of.Music.1965.WEBRip.iTunes.srt\n",
      "No level for The.True.Cost.2015.BluRay.720p.700MB.Ganool.com.srt\n",
      "No level for There.Will.Be.Blood[2007]DvDrip[Eng]-aXXo.en.srt\n",
      "No level for The_Ghost_Writer.srt\n",
      "No level for timpe-inception.srt\n",
      "No level for Trainspotting.1996.720p.BluRay.x264-SiNNERS.EN.srt\n",
      "No level for Twelve.Monkeys.(1995).DVDRip.XviD-UnSeeN.srt\n",
      "No level for Up(2009).srt\n",
      "No level for Virgin.River.S01E01.INTERNAL.720p.WEB.x264-STRiFE.srt\n",
      "No level for Virgin.River.S01E02.INTERNAL.720p.WEB.x264-STRiFE.srt\n",
      "No level for Virgin.River.S01E03.INTERNAL.720p.WEB.x264-STRiFE.srt\n",
      "No level for Virgin.River.S01E04.INTERNAL.720p.WEB.x264-STRiFE.srt\n",
      "No level for Virgin.River.S01E05.INTERNAL.720p.WEB.x264-STRiFE.srt\n",
      "No level for Virgin.River.S01E06.INTERNAL.720p.WEB.x264-STRiFE.srt\n",
      "No level for Virgin.River.S01E07.INTERNAL.720p.WEB.x264-STRiFE.srt\n",
      "No level for Virgin.River.S01E08.INTERNAL.720p.WEB.x264-STRiFE.srt\n",
      "No level for Virgin.River.S01E09.INTERNAL.720p.WEB.x264-STRiFE.srt\n",
      "No level for Virgin.River.S01E10.INTERNAL.720p.WEB.x264-STRiFE.srt\n",
      "No level for Westworld_scenes_of_Dr_Robert_Ford.srt\n",
      "No level for [2000] Darren Aronofsky - Requiem for a Dream (EN).srt\n"
     ]
    }
   ],
   "source": [
    "# add level in file name of subtitles\n",
    "subtitles_folder = 'data/English_scores/Subtitles_all/Subtitles'\n",
    "\n",
    "for file in os.listdir(subtitles_folder):\n",
    "    try:\n",
    "        level = movies_labels.loc[movies_labels['movie'] == file[:-4], 'level'].values[0]\n",
    "        os.rename(os.path.join(subtitles_folder, file), os.path.join(subtitles_folder, f'{file[:-4]}_{level}.txt'))\n",
    "    except IndexError:\n",
    "        print(f'No level for {file}')"
   ],
   "metadata": {
    "collapsed": false,
    "ExecuteTime": {
     "end_time": "2023-08-30T08:59:39.437092200Z",
     "start_time": "2023-08-30T08:59:39.222003900Z"
    }
   }
  },
  {
   "cell_type": "code",
   "execution_count": 42,
   "outputs": [
    {
     "name": "stdout",
     "output_type": "stream",
     "text": [
      "File extension will not be changed: Aladdin.txt\n"
     ]
    }
   ],
   "source": [
    "# change all files extensions in folder to .txt\n",
    "# target_folder = 'data/English_scores/Subtitles_all/Subtitles'\n",
    "#\n",
    "# for file in os.listdir(target_folder):\n",
    "#     if file.endswith('.srt'):\n",
    "#         os.rename(os.path.join(target_folder, file), os.path.join(target_folder, file.replace('.srt', '.txt')))\n",
    "#     elif file.endswith('.sub'):\n",
    "#         os.rename(os.path.join(target_folder, file), os.path.join(target_folder, file.replace('.sub', '.txt')))\n",
    "#     else:\n",
    "#         print(f'File extension will not be changed: {file}')"
   ],
   "metadata": {
    "collapsed": false,
    "ExecuteTime": {
     "end_time": "2023-08-24T10:30:20.819393200Z",
     "start_time": "2023-08-24T10:30:20.623891900Z"
    }
   }
  },
  {
   "cell_type": "code",
   "execution_count": 51,
   "outputs": [],
   "source": [
    "# folder_path = 'data/English_scores/Subtitles_all/Subtitles'\n",
    "#\n",
    "# pattern = re.compile(r\"[^a-zA-Z\\s]\")\n",
    "#\n",
    "# for filename in os.listdir(folder_path):\n",
    "#     if filename.endswith(\".txt\"):\n",
    "#         file_path = os.path.join(folder_path, filename)\n",
    "#         with open(file_path, \"r\") as file:\n",
    "#             content = file.read()\n",
    "#\n",
    "#         cleaned_content = re.sub(pattern, \"\", content)\n",
    "#         cleaned_content = re.sub(r\"\\s+\", \" \", cleaned_content)\n",
    "#         cleaned_content = cleaned_content.lower()\n",
    "#\n",
    "#         # Write the cleaned content back to the file\n",
    "#         with open(file_path, \"w\") as file:\n",
    "#             file.write(cleaned_content)\n"
   ],
   "metadata": {
    "collapsed": false,
    "ExecuteTime": {
     "end_time": "2023-08-24T10:49:33.801837300Z",
     "start_time": "2023-08-24T10:49:28.837993Z"
    }
   }
  },
  {
   "cell_type": "code",
   "execution_count": 75,
   "outputs": [
    {
     "name": "stdout",
     "output_type": "stream",
     "text": [
      "No level for Aladdin.txt\n",
      "No level for Breaking_Bad_The_Movie(2017).txt\n",
      "No level for Bren╨Т.Brown.The.Call.to.Courage.2019.720.NF.720p.DDP.5.1.x264-CafeFlix.txt\n",
      "No level for Casper.txt\n",
      "No level for Gogo_Loves_English.txt\n",
      "No level for Harry_Potter_and_the_philosophers_stone(2001).txt\n",
      "No level for Pride_and_Prejudice.txt\n",
      "No level for The_Ghost_Writer.txt\n",
      "No level for Up(2009).txt\n",
      "No level for Westworld_scenes_of_Dr_Robert_Ford.txt\n"
     ]
    }
   ],
   "source": [
    "# create DataFrame with subtitles and levels using movies_labels and subtitles folder\n",
    "subtitles_folder = 'data/English_scores/Subtitles_all/Subtitles'\n",
    "\n",
    "subtitles = []\n",
    "levels = []\n",
    "film_names = []\n",
    "\n",
    "for filename in os.listdir(subtitles_folder):\n",
    "    if filename.endswith(\".txt\"):\n",
    "        file_path = os.path.join(subtitles_folder, filename)\n",
    "        with open(file_path, \"r\") as file:\n",
    "            content = file.read()\n",
    "            subtitles.append(content)\n",
    "            film_names.append(filename[:-4])\n",
    "            try:\n",
    "                levels.append(movies_labels.loc[movies_labels['movie'] == filename[:-4], 'level'].values[0])\n",
    "            except IndexError:\n",
    "                print(f'No level for {filename}')\n",
    "                levels.append(np.nan)\n"
   ],
   "metadata": {
    "collapsed": false,
    "ExecuteTime": {
     "end_time": "2023-08-24T11:07:10.166323700Z",
     "start_time": "2023-08-24T11:07:09.908336900Z"
    }
   }
  },
  {
   "cell_type": "code",
   "execution_count": 78,
   "outputs": [],
   "source": [
    "subtitles_df = pd.DataFrame({'film_name': film_names, 'subtitles': subtitles, 'level': levels})"
   ],
   "metadata": {
    "collapsed": false,
    "ExecuteTime": {
     "end_time": "2023-08-24T11:07:30.133937600Z",
     "start_time": "2023-08-24T11:07:30.102671900Z"
    }
   }
  },
  {
   "cell_type": "code",
   "execution_count": 103,
   "outputs": [
    {
     "data": {
      "text/plain": "                                             film_name  \\\n0                            10_Cloverfield_lane(2016)   \n1                     10_things_I_hate_about_you(1999)   \n2                                        A Goofy Movie   \n3                                        Aladdin(1992)   \n5                          All_dogs_go_to_heaven(1989)   \n..                                                 ...   \n332                 Westworld_scenes_of_Dr_Robert_Ford   \n333                           We_are_the_Millers(2013)   \n334                      While_You_Were_Sleeping(1995)   \n335  z srt23 uk-bun Gullivers.Travels.1939.720p.Blu...   \n336                                     Zootopia(2016)   \n\n                                             subtitles level  \n0     font colorffffbfixed synced by bozxphd enjoy ...    B1  \n1     hey ill be right with you so cameron here you...    B1  \n2     max max max roxanne whats wrong hello hello m...    A1  \n3     ioh i come from a land from a faraway placei ...    A2  \n5     captioning made possible by mgm home entertai...    A2  \n..                                                 ...   ...  \n332   music no ones complained music theres the lad...    C1  \n333   ioh my godi iits fullon double rainbow all th...    B1  \n334   lucy iokay there are two things thati ii reme...    B1  \n335   english bgullivers travels bbased on jonathan...    B2  \n336   fear treachery bloodlust thousands of years a...    B2  \n\n[336 rows x 3 columns]",
      "text/html": "<div>\n<style scoped>\n    .dataframe tbody tr th:only-of-type {\n        vertical-align: middle;\n    }\n\n    .dataframe tbody tr th {\n        vertical-align: top;\n    }\n\n    .dataframe thead th {\n        text-align: right;\n    }\n</style>\n<table border=\"1\" class=\"dataframe\">\n  <thead>\n    <tr style=\"text-align: right;\">\n      <th></th>\n      <th>film_name</th>\n      <th>subtitles</th>\n      <th>level</th>\n    </tr>\n  </thead>\n  <tbody>\n    <tr>\n      <th>0</th>\n      <td>10_Cloverfield_lane(2016)</td>\n      <td>font colorffffbfixed synced by bozxphd enjoy ...</td>\n      <td>B1</td>\n    </tr>\n    <tr>\n      <th>1</th>\n      <td>10_things_I_hate_about_you(1999)</td>\n      <td>hey ill be right with you so cameron here you...</td>\n      <td>B1</td>\n    </tr>\n    <tr>\n      <th>2</th>\n      <td>A Goofy Movie</td>\n      <td>max max max roxanne whats wrong hello hello m...</td>\n      <td>A1</td>\n    </tr>\n    <tr>\n      <th>3</th>\n      <td>Aladdin(1992)</td>\n      <td>ioh i come from a land from a faraway placei ...</td>\n      <td>A2</td>\n    </tr>\n    <tr>\n      <th>5</th>\n      <td>All_dogs_go_to_heaven(1989)</td>\n      <td>captioning made possible by mgm home entertai...</td>\n      <td>A2</td>\n    </tr>\n    <tr>\n      <th>...</th>\n      <td>...</td>\n      <td>...</td>\n      <td>...</td>\n    </tr>\n    <tr>\n      <th>332</th>\n      <td>Westworld_scenes_of_Dr_Robert_Ford</td>\n      <td>music no ones complained music theres the lad...</td>\n      <td>C1</td>\n    </tr>\n    <tr>\n      <th>333</th>\n      <td>We_are_the_Millers(2013)</td>\n      <td>ioh my godi iits fullon double rainbow all th...</td>\n      <td>B1</td>\n    </tr>\n    <tr>\n      <th>334</th>\n      <td>While_You_Were_Sleeping(1995)</td>\n      <td>lucy iokay there are two things thati ii reme...</td>\n      <td>B1</td>\n    </tr>\n    <tr>\n      <th>335</th>\n      <td>z srt23 uk-bun Gullivers.Travels.1939.720p.Blu...</td>\n      <td>english bgullivers travels bbased on jonathan...</td>\n      <td>B2</td>\n    </tr>\n    <tr>\n      <th>336</th>\n      <td>Zootopia(2016)</td>\n      <td>fear treachery bloodlust thousands of years a...</td>\n      <td>B2</td>\n    </tr>\n  </tbody>\n</table>\n<p>336 rows × 3 columns</p>\n</div>"
     },
     "execution_count": 103,
     "metadata": {},
     "output_type": "execute_result"
    }
   ],
   "source": [
    "subtitles_df"
   ],
   "metadata": {
    "collapsed": false,
    "ExecuteTime": {
     "end_time": "2023-08-24T11:16:18.997937600Z",
     "start_time": "2023-08-24T11:16:18.966316400Z"
    }
   }
  },
  {
   "cell_type": "code",
   "execution_count": 104,
   "outputs": [],
   "source": [
    "subtitles_df.to_csv('data/English_scores/subtitles_df.csv', index=False)"
   ],
   "metadata": {
    "collapsed": false,
    "ExecuteTime": {
     "end_time": "2023-08-24T11:16:33.383286Z",
     "start_time": "2023-08-24T11:16:33.120358400Z"
    }
   }
  },
  {
   "cell_type": "code",
   "execution_count": null,
   "outputs": [],
   "source": [
    "subtitles_df"
   ],
   "metadata": {
    "collapsed": false
   }
  },
  {
   "cell_type": "code",
   "execution_count": 62,
   "outputs": [],
   "source": [
    "movies_labels = pd.read_csv('data/English_scores/movies_labels.csv')\n"
   ],
   "metadata": {
    "collapsed": false,
    "ExecuteTime": {
     "end_time": "2023-08-26T12:37:28.984782100Z",
     "start_time": "2023-08-26T12:37:28.967922800Z"
    }
   }
  },
  {
   "cell_type": "code",
   "execution_count": 63,
   "outputs": [
    {
     "data": {
      "text/plain": "                                   movie level\n0              10_Cloverfield_lane(2016)    B1\n1       10_things_I_hate_about_you(1999)    B1\n2                   A_knights_tale(2001)    B2\n3                   A_star_is_born(2018)    B2\n4                          Aladdin(1992)    A2\n..                                   ...   ...\n414  Suits.S03E06.720p.HDTV.x264-mSD.srt    C1\n415       Suits.S03E07.HDTV.x264-mSD.srt    C1\n416  Suits.S03E08.480p.HDTV.x264-mSD.srt    C1\n417  Suits.S03E09.480p.HDTV.x264-mSD.srt    C1\n418       Suits.S03E10.HDTV.x264-mSD.srt    C1\n\n[419 rows x 2 columns]",
      "text/html": "<div>\n<style scoped>\n    .dataframe tbody tr th:only-of-type {\n        vertical-align: middle;\n    }\n\n    .dataframe tbody tr th {\n        vertical-align: top;\n    }\n\n    .dataframe thead th {\n        text-align: right;\n    }\n</style>\n<table border=\"1\" class=\"dataframe\">\n  <thead>\n    <tr style=\"text-align: right;\">\n      <th></th>\n      <th>movie</th>\n      <th>level</th>\n    </tr>\n  </thead>\n  <tbody>\n    <tr>\n      <th>0</th>\n      <td>10_Cloverfield_lane(2016)</td>\n      <td>B1</td>\n    </tr>\n    <tr>\n      <th>1</th>\n      <td>10_things_I_hate_about_you(1999)</td>\n      <td>B1</td>\n    </tr>\n    <tr>\n      <th>2</th>\n      <td>A_knights_tale(2001)</td>\n      <td>B2</td>\n    </tr>\n    <tr>\n      <th>3</th>\n      <td>A_star_is_born(2018)</td>\n      <td>B2</td>\n    </tr>\n    <tr>\n      <th>4</th>\n      <td>Aladdin(1992)</td>\n      <td>A2</td>\n    </tr>\n    <tr>\n      <th>...</th>\n      <td>...</td>\n      <td>...</td>\n    </tr>\n    <tr>\n      <th>414</th>\n      <td>Suits.S03E06.720p.HDTV.x264-mSD.srt</td>\n      <td>C1</td>\n    </tr>\n    <tr>\n      <th>415</th>\n      <td>Suits.S03E07.HDTV.x264-mSD.srt</td>\n      <td>C1</td>\n    </tr>\n    <tr>\n      <th>416</th>\n      <td>Suits.S03E08.480p.HDTV.x264-mSD.srt</td>\n      <td>C1</td>\n    </tr>\n    <tr>\n      <th>417</th>\n      <td>Suits.S03E09.480p.HDTV.x264-mSD.srt</td>\n      <td>C1</td>\n    </tr>\n    <tr>\n      <th>418</th>\n      <td>Suits.S03E10.HDTV.x264-mSD.srt</td>\n      <td>C1</td>\n    </tr>\n  </tbody>\n</table>\n<p>419 rows × 2 columns</p>\n</div>"
     },
     "execution_count": 63,
     "metadata": {},
     "output_type": "execute_result"
    }
   ],
   "source": [
    "movies_labels"
   ],
   "metadata": {
    "collapsed": false,
    "ExecuteTime": {
     "end_time": "2023-08-26T12:37:32.803569500Z",
     "start_time": "2023-08-26T12:37:32.786673400Z"
    }
   }
  },
  {
   "cell_type": "code",
   "execution_count": 64,
   "outputs": [
    {
     "name": "stdout",
     "output_type": "stream",
     "text": [
      "Количество фильмов, имеющих метку и субтитры: 229\n"
     ]
    }
   ],
   "source": [
    "sub_names = os.listdir('data/English_scores/Subtitles_all/Subtitles')\n",
    "\n",
    "sub_filtr = set(sub_names) & set(movies_labels['movie'] + '.srt')\n",
    "print(f'Количество фильмов, имеющих метку и субтитры: {len(sub_filtr)}')"
   ],
   "metadata": {
    "collapsed": false,
    "ExecuteTime": {
     "end_time": "2023-08-26T12:38:17.633268700Z",
     "start_time": "2023-08-26T12:38:17.614864200Z"
    }
   }
  },
  {
   "cell_type": "code",
   "execution_count": 66,
   "outputs": [
    {
     "data": {
      "text/plain": "{'Breaking_Bad_The_Movie(2017).srt',\n 'Bren╨Т.Brown.The.Call.to.Courage.2019.720.NF.720p.DDP.5.1.x264-CafeFlix.srt',\n 'Casper.srt',\n 'Crown, The S01E01 - Wolferton Splash.en.SDH.srt',\n 'Crown, The S01E01 - Wolferton Splash.en.srt',\n 'Crown, The S01E02 - Hyde Park Corner.en.SDH.srt',\n 'Crown, The S01E02 - Hyde Park Corner.en.srt',\n 'Crown, The S01E03 - Windsor.en.FORCED.srt',\n 'Crown, The S01E03 - Windsor.en.SDH.srt',\n 'Crown, The S01E03 - Windsor.en.srt',\n 'Crown, The S01E04 - Act of God.en.SDH.srt',\n 'Crown, The S01E04 - Act of God.en.srt',\n 'Crown, The S01E05 - Smoke and Mirrors.en.FORCED.srt',\n 'Crown, The S01E05 - Smoke and Mirrors.en.SDH.srt',\n 'Crown, The S01E05 - Smoke and Mirrors.en.srt',\n 'Crown, The S01E06 - Gelignite.en.SDH.srt',\n 'Crown, The S01E06 - Gelignite.en.srt',\n 'Crown, The S01E07 - Scientia Potentia Est.en.FORCED.srt',\n 'Crown, The S01E07 - Scientia Potentia Est.en.SDH.srt',\n 'Crown, The S01E07 - Scientia Potentia Est.en.srt',\n 'Crown, The S01E08 - Pride & Joy.en.SDH.srt',\n 'Crown, The S01E08 - Pride & Joy.en.srt',\n 'Crown, The S01E09 - Assassins.en.SDH.srt',\n 'Crown, The S01E09 - Assassins.en.srt',\n 'Crown, The S01E10 - Gloriana.en.FORCED.srt',\n 'Crown, The S01E10 - Gloriana.en.SDH.srt',\n 'Crown, The S01E10 - Gloriana.en.srt',\n 'E.T.The.Extra-Terrestrial.1982.720p.BluRay.X264-AMIABLE.srt',\n 'Frozen.2013.WEB-DL.DSNP.srt',\n 'Gogo_Loves_English.srt',\n \"Harry.Potter.and.the.Philosopher's.Stone.2001.720p.HDDVD.DTS.x264-ESiR.ENG.srt\",\n 'Harry_Potter_and_the_philosophers_stone(2001).srt',\n 'Home.Alone.1990.720p.BluRay.x264-SiNNERS.srt',\n 'Ice Age 2002 BRRip XvidHD 720p-NPW.srt',\n 'Jumanji.1995.BluRay.1080p.DTS.2Audio.x264-CHD.eng.srt',\n 'Matilda.1996.1080p.BluRay.x264.anoXmous_eng.srt',\n 'Pride_and_Prejudice.srt',\n 'Princess Diaries - 1CD - Eng - 2001.srt',\n 'SlingShot (2014) WEB.eng.srt',\n 'Tangled.2010.720p.BluRay.x264-CHD.srt',\n 'The Goonies[1985]DvDrip[Eng]-Stealthmaster.srt',\n 'The Incredibles-English.srt',\n 'The.Grinch.2018.REMUX.1080p.Blu-ray.AVC.TrueHD.DTS-HD.MA.7.1-LEGi0N.English.srt',\n 'The.Karate.Kid.2010.1080p.BluRay.H264.AAC-RARBG.srt',\n 'The.Land.Before.Time.I.1988.2ch.[mp4].[Raven007].srt',\n 'The.Lego.Movie.2014.720p.BluRay.x264.YIFY.srt',\n 'The.Little.Rascals.1994.720p.BluRay.x264-HD4U.srt',\n 'The.Sound.of.Music.1965.WEBRip.iTunes.srt',\n 'The.True.Cost.2015.BluRay.720p.700MB.Ganool.com.srt',\n 'The_Ghost_Writer.srt',\n 'Up(2009).srt',\n 'Virgin.River.S01E01.INTERNAL.720p.WEB.x264-STRiFE.srt',\n 'Virgin.River.S01E02.INTERNAL.720p.WEB.x264-STRiFE.srt',\n 'Virgin.River.S01E03.INTERNAL.720p.WEB.x264-STRiFE.srt',\n 'Virgin.River.S01E04.INTERNAL.720p.WEB.x264-STRiFE.srt',\n 'Virgin.River.S01E05.INTERNAL.720p.WEB.x264-STRiFE.srt',\n 'Virgin.River.S01E06.INTERNAL.720p.WEB.x264-STRiFE.srt',\n 'Virgin.River.S01E07.INTERNAL.720p.WEB.x264-STRiFE.srt',\n 'Virgin.River.S01E08.INTERNAL.720p.WEB.x264-STRiFE.srt',\n 'Virgin.River.S01E09.INTERNAL.720p.WEB.x264-STRiFE.srt',\n 'Virgin.River.S01E10.INTERNAL.720p.WEB.x264-STRiFE.srt',\n 'Westworld_scenes_of_Dr_Robert_Ford.srt',\n 'icarus.2017.web.x264-strife.srt'}"
     },
     "execution_count": 66,
     "metadata": {},
     "output_type": "execute_result"
    }
   ],
   "source": [
    "# фильмы которые не имеют метки\n",
    "sub_filtr2 = set(sub_names) - set(movies_labels['movie'] + '.srt')\n",
    "sub_filtr2"
   ],
   "metadata": {
    "collapsed": false,
    "ExecuteTime": {
     "end_time": "2023-08-26T12:40:32.872134900Z",
     "start_time": "2023-08-26T12:40:32.843672200Z"
    }
   }
  },
  {
   "cell_type": "code",
   "execution_count": null,
   "outputs": [],
   "source": [
    "import os\n",
    "import zipfile\n",
    "\n",
    "def extract_archives_in_folder(folder_path):\n",
    "    for filename in os.listdir(folder_path):\n",
    "        filepath = os.path.join(folder_path, filename)\n",
    "        if filename.endswith(\".zip\"):  # Предположим, что архивы имеют расширение .zip\n",
    "            with zipfile.ZipFile(filepath, 'r') as zip_ref:\n",
    "                zip_ref.extractall(folder_path)\n",
    "            os.remove(filepath)  # Опционально: удалить исходный архив после разархивации\n",
    "\n",
    "if __name__ == \"__main__\":\n",
    "    target_folder = \"data/zips\"\n",
    "    extract_archives_in_folder(target_folder)\n",
    "    print(\"Разархивация завершена.\")\n"
   ],
   "metadata": {
    "collapsed": false
   }
  },
  {
   "cell_type": "code",
   "execution_count": null,
   "outputs": [],
   "source": [],
   "metadata": {
    "collapsed": false
   }
  },
  {
   "cell_type": "code",
   "execution_count": null,
   "outputs": [],
   "source": [],
   "metadata": {
    "collapsed": false
   }
  },
  {
   "cell_type": "code",
   "execution_count": null,
   "outputs": [],
   "source": [],
   "metadata": {
    "collapsed": false
   }
  },
  {
   "cell_type": "code",
   "execution_count": null,
   "outputs": [],
   "source": [],
   "metadata": {
    "collapsed": false
   }
  }
 ],
 "metadata": {
  "kernelspec": {
   "display_name": "Python 3",
   "language": "python",
   "name": "python3"
  },
  "language_info": {
   "codemirror_mode": {
    "name": "ipython",
    "version": 2
   },
   "file_extension": ".py",
   "mimetype": "text/x-python",
   "name": "python",
   "nbconvert_exporter": "python",
   "pygments_lexer": "ipython2",
   "version": "2.7.6"
  }
 },
 "nbformat": 4,
 "nbformat_minor": 0
}
